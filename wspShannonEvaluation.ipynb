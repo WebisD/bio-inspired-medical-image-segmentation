{
 "cells": [
  {
   "cell_type": "code",
   "execution_count": 1,
   "metadata": {},
   "outputs": [],
   "source": [
    "import math\n",
    "import numpy as np"
   ]
  },
  {
   "cell_type": "markdown",
   "metadata": {},
   "source": [
    "### Shannon's Entropy\n",
    "\n",
    "$P(H) = \\{h_1, h_2, ..., h_L\\}$\n",
    "\n",
    "$$S(H) = - \\sum_{i=1}^{L}h_i \\log_{e}(h_i)$$\n"
   ]
  },
  {
   "cell_type": "code",
   "execution_count": 2,
   "metadata": {},
   "outputs": [],
   "source": [
    "def ShannonEntropy(histograma, a, b):\n",
    "    a = round(a)\n",
    "    b = round(b)\n",
    "\n",
    "    H = np.zeros(b - a + 1)\n",
    "    H = histograma[a:b]\n",
    "    H = H / np.sum(H)\n",
    "    L = len(H)\n",
    "    S = 0\n",
    "    ret = 0\n",
    "\n",
    "    for i in range(L):\n",
    "        if H[i] != 0:\n",
    "            ret = ret + H[i] * math.log(H[i])\n",
    "            if math.isnan(ret):\n",
    "                ret = 0\n",
    "\n",
    "    S = -ret\n",
    "\n",
    "    return S"
   ]
  },
  {
   "cell_type": "code",
   "execution_count": null,
   "metadata": {},
   "outputs": [],
   "source": [
    "def wspShannonEvaluation(histograma, elemento, lb, ub, q=1):\n",
    "    light = 0\n",
    "    n = len(elemento) + 2\n",
    "    elemento = [lb] + elemento + [ub]\n",
    "    a = elemento[0]\n",
    "    b = elemento[1]\n",
    "    light = ShannonEntropy(histograma, a, b)\n",
    "\n",
    "    for i in range(1, n-1):\n",
    "        a = elemento[i] + 1\n",
    "        b = elemento[i+1]\n",
    "        ES = ShannonEntropy(histograma, a, b)\n",
    "        light = light + ES\n",
    "\n",
    "    return light\n"
   ]
  }
 ],
 "metadata": {
  "kernelspec": {
   "display_name": "Python 3.10.4 ('tcc_env')",
   "language": "python",
   "name": "python3"
  },
  "language_info": {
   "codemirror_mode": {
    "name": "ipython",
    "version": 3
   },
   "file_extension": ".py",
   "mimetype": "text/x-python",
   "name": "python",
   "nbconvert_exporter": "python",
   "pygments_lexer": "ipython3",
   "version": "3.10.4"
  },
  "orig_nbformat": 4,
  "vscode": {
   "interpreter": {
    "hash": "50c3a715107fe4dcdc7dcc1225e41dc08fefd31cb688eb0c1f730ec66093fb86"
   }
  }
 },
 "nbformat": 4,
 "nbformat_minor": 2
}
