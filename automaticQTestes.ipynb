{
 "cells": [
  {
   "cell_type": "code",
   "execution_count": 38,
   "metadata": {},
   "outputs": [],
   "source": [
    "import numpy as np\n",
    "import pandas as pd\n",
    "import os\n",
    "import importlib"
   ]
  },
  {
   "cell_type": "code",
   "execution_count": 39,
   "metadata": {},
   "outputs": [
    {
     "data": {
      "text/plain": [
       "<module 'ipynb.fs.full.wspTsallisEvaluation' (/media/webis/Data Both/OneDrive - FEI/Projetos/GitHub/image-segmentation/wspTsallisEvaluation.ipynb)>"
      ]
     },
     "execution_count": 39,
     "metadata": {},
     "output_type": "execute_result"
    }
   ],
   "source": [
    "import ipynb.fs.full.plotGraph as plotGraph\n",
    "import ipynb.fs.full.wspMultithreshold as wspMultithreshold\n",
    "import ipynb.fs.full.dicomHandler as dicomHandler\n",
    "import ipynb.fs.full.npyHandler as npyHandler\n",
    "\n",
    "import ipynb.fs.full.wspTsallisEvaluation as wspTsallisEvaluation\n",
    "import ipynb.fs.full.wspShannonEvaluation as wspShannonEvaluation\n",
    "\n",
    "importlib.reload(plotGraph)\n",
    "importlib.reload(wspMultithreshold)\n",
    "importlib.reload(dicomHandler)\n",
    "importlib.reload(wspTsallisEvaluation)"
   ]
  },
  {
   "attachments": {},
   "cell_type": "markdown",
   "metadata": {},
   "source": [
    "### Automatic q Calculation\n",
    "\n",
    "$$S_{MAX} = \\frac{1}{q-1} [1 - n(p^q(x))]$$"
   ]
  },
  {
   "cell_type": "code",
   "execution_count": 40,
   "metadata": {},
   "outputs": [],
   "source": [
    "q_value = np.linspace(0.01, 1.99, num=199)\n",
    "#q_value = np.linspace(0.001, 1.999, num=1999)\n",
    "#q_value = np.linspace(0.0001, 1.9999, num=19999)"
   ]
  },
  {
   "cell_type": "code",
   "execution_count": 41,
   "metadata": {},
   "outputs": [],
   "source": [
    "q_value[q_value == 1.00] = 1.0000000000001"
   ]
  },
  {
   "cell_type": "code",
   "execution_count": 42,
   "metadata": {},
   "outputs": [],
   "source": [
    "folder_dir = \"Dataset/original\""
   ]
  },
  {
   "cell_type": "code",
   "execution_count": 43,
   "metadata": {},
   "outputs": [],
   "source": [
    "def get_lb_ub():\n",
    "    min_pixel_value = float('inf')\n",
    "    max_pixel_value = float('-inf')\n",
    "\n",
    "    for filename in os.listdir(folder_dir):\n",
    "        image_path = os.path.join(folder_dir, filename)\n",
    "        image = np.load(image_path)\n",
    "        min_pixel_value = min(min_pixel_value, np.min(image))\n",
    "        max_pixel_value = max(max_pixel_value, np.max(image))\n",
    "\n",
    "    return min_pixel_value, max_pixel_value\n",
    "\n",
    "lb, ub = get_lb_ub()"
   ]
  },
  {
   "cell_type": "code",
   "execution_count": 44,
   "metadata": {},
   "outputs": [],
   "source": [
    "folder_dir = \"Dataset/original\"\n",
    "folder_gt_dir = \"Dataset/segmented\"\n",
    "\n",
    "dicom_img = folder_dir + '/CASE_20_1.npy'"
   ]
  },
  {
   "cell_type": "code",
   "execution_count": 45,
   "metadata": {},
   "outputs": [
    {
     "data": {
      "text/plain": [
       "(-2000, 4219)"
      ]
     },
     "execution_count": 45,
     "metadata": {},
     "output_type": "execute_result"
    }
   ],
   "source": [
    "lb, ub"
   ]
  },
  {
   "cell_type": "code",
   "execution_count": 46,
   "metadata": {},
   "outputs": [],
   "source": [
    "pixel_array = npyHandler.read_npy_image(dicom_img)\n",
    "\n",
    "#import cv2\n",
    "#image = cv2.imread(\"ct.png\")\n",
    "#pixel_array = cv2.cvtColor(image, cv2.COLOR_BGR2GRAY)\n",
    "#lb,ub = pixel_array.min(), pixel_array.max()\n",
    "\n",
    "#import matplotlib.image\n",
    "#matplotlib.image.imsave('ct.png', pixel_array, cmap='gray')\n",
    "\n",
    "hist, bin_edges, _, _ = wspMultithreshold.wspGrayHistogram(pixel_array)"
   ]
  },
  {
   "cell_type": "code",
   "execution_count": 47,
   "metadata": {},
   "outputs": [
    {
     "data": {
      "text/plain": [
       "array([-2000., -1999., -1998., ...,  3299.,  3300.,  3301.])"
      ]
     },
     "execution_count": 47,
     "metadata": {},
     "output_type": "execute_result"
    }
   ],
   "source": [
    "bin_edges"
   ]
  },
  {
   "cell_type": "code",
   "execution_count": 48,
   "metadata": {},
   "outputs": [
    {
     "name": "stdout",
     "output_type": "stream",
     "text": [
      "6220 0.0001607717041800643\n"
     ]
    }
   ],
   "source": [
    "# N = the  amount  of  elements  of  the X\n",
    "N = ub - lb + 1\n",
    "\n",
    "p_x = 1/N\n",
    "\n",
    "print(N, p_x)"
   ]
  },
  {
   "cell_type": "code",
   "execution_count": 49,
   "metadata": {},
   "outputs": [],
   "source": [
    "Sq_Smax_value = []\n",
    "\n",
    "for q in q_value:\n",
    "    Sq = wspTsallisEvaluation.TsallisEntropy(hist, q, 0, N)\n",
    "    \n",
    "    Smax = 1/(q-1) * (1-(N*((p_x)**q)))\n",
    "    \n",
    "    Sq_Smax = Sq / Smax\n",
    "    Sq_Smax_value.append(Sq_Smax)"
   ]
  },
  {
   "cell_type": "code",
   "execution_count": 50,
   "metadata": {},
   "outputs": [
    {
     "data": {
      "image/png": "[encoded data removed]",
      "text/plain": [
       "<Figure size 640x480 with 1 Axes>"
      ]
     },
     "metadata": {},
     "output_type": "display_data"
    }
   ],
   "source": [
    "import matplotlib.pyplot as plt\n",
    "\n",
    "# Example arrays\n",
    "x = q_value\n",
    "y = Sq_Smax_value\n",
    "\n",
    "#lowest_index = np.argmin(y)\n",
    "\n",
    "sorted_indices = np.argsort(y)\n",
    "second_lowest_index = sorted_indices[0]\n",
    "\n",
    "# Plotting the line graph\n",
    "plt.plot(x, y)\n",
    "\n",
    "#plt.scatter(x[lowest_index], y[lowest_index], color='red', label='Lowest Point')\n",
    "annotation_text = f'(q = {x[second_lowest_index]})'\n",
    "plt.annotate(annotation_text, xy=(x[second_lowest_index], y[second_lowest_index]), xytext=(x[second_lowest_index]-0.2, y[second_lowest_index]+0.5), arrowprops=dict(arrowstyle='->'))\n",
    "\n",
    "# Adding labels and title\n",
    "plt.xlabel('q')\n",
    "plt.ylabel('Sq / Smax')\n",
    "\n",
    "# Display the plot\n",
    "plt.savefig(\"Automatic q value.jpg\", bbox_inches='tight')\n",
    "plt.show()\n"
   ]
  },
  {
   "cell_type": "code",
   "execution_count": 51,
   "metadata": {},
   "outputs": [],
   "source": [
    "best_q_values = []\n",
    "\n",
    "lb, ub = get_lb_ub()\n",
    "\n",
    "N = ub - lb + 1\n",
    "\n",
    "p_x = 1/N"
   ]
  },
  {
   "cell_type": "code",
   "execution_count": 52,
   "metadata": {},
   "outputs": [],
   "source": [
    "for file in os.listdir(folder_dir):\n",
    "    dicom_img = folder_dir + '/' + file\n",
    "    pixel_array = npyHandler.read_npy_image(dicom_img)\n",
    "\n",
    "    hist, bin_edges, _, _ = wspMultithreshold.wspGrayHistogram(pixel_array)\n",
    "\n",
    "    Sq_Smax_value = []\n",
    "\n",
    "    for q in q_value:\n",
    "        Sq = wspTsallisEvaluation.TsallisEntropy(hist, q, 0, len(hist)+1)\n",
    "        \n",
    "        Smax = 1/(q-1) * (1-(N*((p_x)**q)))\n",
    "\n",
    "        Sq_Smax = Sq / Smax\n",
    "        Sq_Smax_value.append(Sq_Smax)\n",
    "\n",
    "    sorted_indices = np.argsort(Sq_Smax_value)\n",
    "    second_lowest_index = sorted_indices[0]\n",
    "\n",
    "    best_q_values.append(q_value[second_lowest_index])\n"
   ]
  },
  {
   "cell_type": "code",
   "execution_count": 53,
   "metadata": {},
   "outputs": [],
   "source": [
    "data = {'q': best_q_values}"
   ]
  },
  {
   "cell_type": "code",
   "execution_count": 54,
   "metadata": {},
   "outputs": [
    {
     "data": {
      "text/plain": [
       "(0.29874074074074075, 0.08628917471806866)"
      ]
     },
     "execution_count": 54,
     "metadata": {},
     "output_type": "execute_result"
    }
   ],
   "source": [
    "np.mean(best_q_values), np.std(best_q_values)"
   ]
  },
  {
   "cell_type": "code",
   "execution_count": 55,
   "metadata": {},
   "outputs": [
    {
     "data": {
      "text/plain": [
       "(0.13, 0.42000000000000004)"
      ]
     },
     "execution_count": 55,
     "metadata": {},
     "output_type": "execute_result"
    }
   ],
   "source": [
    "np.min(best_q_values), np.max(best_q_values)"
   ]
  },
  {
   "cell_type": "code",
   "execution_count": 56,
   "metadata": {},
   "outputs": [
    {
     "data": {
      "text/html": [
       "<div>\n",
       "<style scoped>\n",
       "    .dataframe tbody tr th:only-of-type {\n",
       "        vertical-align: middle;\n",
       "    }\n",
       "\n",
       "    .dataframe tbody tr th {\n",
       "        vertical-align: top;\n",
       "    }\n",
       "\n",
       "    .dataframe thead th {\n",
       "        text-align: right;\n",
       "    }\n",
       "</style>\n",
       "<table border=\"1\" class=\"dataframe\">\n",
       "  <thead>\n",
       "    <tr style=\"text-align: right;\">\n",
       "      <th></th>\n",
       "      <th>q</th>\n",
       "      <th>Count</th>\n",
       "      <th>%</th>\n",
       "    </tr>\n",
       "  </thead>\n",
       "  <tbody>\n",
       "    <tr>\n",
       "      <th>0</th>\n",
       "      <td>0.39</td>\n",
       "      <td>33</td>\n",
       "      <td>12.22</td>\n",
       "    </tr>\n",
       "    <tr>\n",
       "      <th>1</th>\n",
       "      <td>0.37</td>\n",
       "      <td>26</td>\n",
       "      <td>9.63</td>\n",
       "    </tr>\n",
       "    <tr>\n",
       "      <th>2</th>\n",
       "      <td>0.38</td>\n",
       "      <td>24</td>\n",
       "      <td>8.89</td>\n",
       "    </tr>\n",
       "    <tr>\n",
       "      <th>3</th>\n",
       "      <td>0.28</td>\n",
       "      <td>17</td>\n",
       "      <td>6.30</td>\n",
       "    </tr>\n",
       "    <tr>\n",
       "      <th>4</th>\n",
       "      <td>0.21</td>\n",
       "      <td>15</td>\n",
       "      <td>5.56</td>\n",
       "    </tr>\n",
       "    <tr>\n",
       "      <th>5</th>\n",
       "      <td>0.27</td>\n",
       "      <td>14</td>\n",
       "      <td>5.19</td>\n",
       "    </tr>\n",
       "    <tr>\n",
       "      <th>6</th>\n",
       "      <td>0.41</td>\n",
       "      <td>13</td>\n",
       "      <td>4.81</td>\n",
       "    </tr>\n",
       "    <tr>\n",
       "      <th>7</th>\n",
       "      <td>0.19</td>\n",
       "      <td>13</td>\n",
       "      <td>4.81</td>\n",
       "    </tr>\n",
       "    <tr>\n",
       "      <th>8</th>\n",
       "      <td>0.24</td>\n",
       "      <td>11</td>\n",
       "      <td>4.07</td>\n",
       "    </tr>\n",
       "    <tr>\n",
       "      <th>9</th>\n",
       "      <td>0.22</td>\n",
       "      <td>11</td>\n",
       "      <td>4.07</td>\n",
       "    </tr>\n",
       "    <tr>\n",
       "      <th>10</th>\n",
       "      <td>0.36</td>\n",
       "      <td>10</td>\n",
       "      <td>3.70</td>\n",
       "    </tr>\n",
       "    <tr>\n",
       "      <th>11</th>\n",
       "      <td>0.23</td>\n",
       "      <td>10</td>\n",
       "      <td>3.70</td>\n",
       "    </tr>\n",
       "    <tr>\n",
       "      <th>12</th>\n",
       "      <td>0.20</td>\n",
       "      <td>9</td>\n",
       "      <td>3.33</td>\n",
       "    </tr>\n",
       "    <tr>\n",
       "      <th>13</th>\n",
       "      <td>0.40</td>\n",
       "      <td>8</td>\n",
       "      <td>2.96</td>\n",
       "    </tr>\n",
       "    <tr>\n",
       "      <th>14</th>\n",
       "      <td>0.32</td>\n",
       "      <td>6</td>\n",
       "      <td>2.22</td>\n",
       "    </tr>\n",
       "    <tr>\n",
       "      <th>15</th>\n",
       "      <td>0.42</td>\n",
       "      <td>6</td>\n",
       "      <td>2.22</td>\n",
       "    </tr>\n",
       "    <tr>\n",
       "      <th>16</th>\n",
       "      <td>0.13</td>\n",
       "      <td>5</td>\n",
       "      <td>1.85</td>\n",
       "    </tr>\n",
       "    <tr>\n",
       "      <th>17</th>\n",
       "      <td>0.26</td>\n",
       "      <td>5</td>\n",
       "      <td>1.85</td>\n",
       "    </tr>\n",
       "    <tr>\n",
       "      <th>18</th>\n",
       "      <td>0.25</td>\n",
       "      <td>5</td>\n",
       "      <td>1.85</td>\n",
       "    </tr>\n",
       "    <tr>\n",
       "      <th>19</th>\n",
       "      <td>0.14</td>\n",
       "      <td>5</td>\n",
       "      <td>1.85</td>\n",
       "    </tr>\n",
       "    <tr>\n",
       "      <th>20</th>\n",
       "      <td>0.29</td>\n",
       "      <td>5</td>\n",
       "      <td>1.85</td>\n",
       "    </tr>\n",
       "    <tr>\n",
       "      <th>21</th>\n",
       "      <td>0.15</td>\n",
       "      <td>4</td>\n",
       "      <td>1.48</td>\n",
       "    </tr>\n",
       "    <tr>\n",
       "      <th>22</th>\n",
       "      <td>0.17</td>\n",
       "      <td>4</td>\n",
       "      <td>1.48</td>\n",
       "    </tr>\n",
       "    <tr>\n",
       "      <th>23</th>\n",
       "      <td>0.30</td>\n",
       "      <td>4</td>\n",
       "      <td>1.48</td>\n",
       "    </tr>\n",
       "    <tr>\n",
       "      <th>24</th>\n",
       "      <td>0.18</td>\n",
       "      <td>3</td>\n",
       "      <td>1.11</td>\n",
       "    </tr>\n",
       "    <tr>\n",
       "      <th>25</th>\n",
       "      <td>0.16</td>\n",
       "      <td>3</td>\n",
       "      <td>1.11</td>\n",
       "    </tr>\n",
       "    <tr>\n",
       "      <th>26</th>\n",
       "      <td>0.31</td>\n",
       "      <td>1</td>\n",
       "      <td>0.37</td>\n",
       "    </tr>\n",
       "  </tbody>\n",
       "</table>\n",
       "</div>"
      ],
      "text/plain": [
       "       q  Count      %\n",
       "0   0.39     33  12.22\n",
       "1   0.37     26   9.63\n",
       "2   0.38     24   8.89\n",
       "3   0.28     17   6.30\n",
       "4   0.21     15   5.56\n",
       "5   0.27     14   5.19\n",
       "6   0.41     13   4.81\n",
       "7   0.19     13   4.81\n",
       "8   0.24     11   4.07\n",
       "9   0.22     11   4.07\n",
       "10  0.36     10   3.70\n",
       "11  0.23     10   3.70\n",
       "12  0.20      9   3.33\n",
       "13  0.40      8   2.96\n",
       "14  0.32      6   2.22\n",
       "15  0.42      6   2.22\n",
       "16  0.13      5   1.85\n",
       "17  0.26      5   1.85\n",
       "18  0.25      5   1.85\n",
       "19  0.14      5   1.85\n",
       "20  0.29      5   1.85\n",
       "21  0.15      4   1.48\n",
       "22  0.17      4   1.48\n",
       "23  0.30      4   1.48\n",
       "24  0.18      3   1.11\n",
       "25  0.16      3   1.11\n",
       "26  0.31      1   0.37"
      ]
     },
     "metadata": {},
     "output_type": "display_data"
    }
   ],
   "source": [
    "df = pd.DataFrame(data)\n",
    "\n",
    "min_counts = df['q'].value_counts().reset_index()\n",
    "min_counts.columns = ['q', 'Count']\n",
    "\n",
    "min_counts['%'] = round((min_counts['Count']/270)*100,2)\n",
    "\n",
    "display(min_counts)"
   ]
  },
  {
   "cell_type": "code",
   "execution_count": 80,
   "metadata": {},
   "outputs": [],
   "source": [
    "df = min_counts.sort_values('q')\n",
    "df['q'] = df['q'].round(2)"
   ]
  },
  {
   "cell_type": "code",
   "execution_count": 81,
   "metadata": {},
   "outputs": [
    {
     "data": {
      "image/png": "[encoded data removed]",
      "text/plain": [
       "<Figure size 2500x1000 with 1 Axes>"
      ]
     },
     "metadata": {},
     "output_type": "display_data"
    }
   ],
   "source": [
    "import seaborn as sns\n",
    "\n",
    "plt.figure(figsize=(25, 10))\n",
    "sns.barplot(x='q', y='Count', data=df)\n",
    "plt.xlabel('Value')\n",
    "plt.ylabel('Count')\n",
    "plt.title('Value Counts')\n",
    "plt.show()"
   ]
  }
 ],
 "metadata": {
  "kernelspec": {
   "display_name": "Python 3",
   "language": "python",
   "name": "python3"
  },
  "language_info": {
   "codemirror_mode": {
    "name": "ipython",
    "version": 3
   },
   "file_extension": ".py",
   "mimetype": "text/x-python",
   "name": "python",
   "nbconvert_exporter": "python",
   "pygments_lexer": "ipython3",
   "version": "3.11.3"
  },
  "orig_nbformat": 4
 },
 "nbformat": 4,
 "nbformat_minor": 2
}
