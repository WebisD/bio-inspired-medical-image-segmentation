{
 "cells": [
  {
   "cell_type": "code",
   "execution_count": 23,
   "metadata": {},
   "outputs": [],
   "source": [
    "import random\n",
    "import math\n",
    "import cv2\n",
    "import matplotlib.pyplot as plt\n",
    "import numpy as np"
   ]
  },
  {
   "cell_type": "code",
   "execution_count": 24,
   "metadata": {},
   "outputs": [],
   "source": [
    "from ipynb.fs.full.wspShannonEvaluation import wspShannonEvaluation\n",
    "from ipynb.fs.full.wspTsallisEvaluation import wspTsallisEvaluation"
   ]
  },
  {
   "cell_type": "code",
   "execution_count": 25,
   "metadata": {},
   "outputs": [],
   "source": [
    "def empty_nests(nest, pa, n, dim, lb, ub):\n",
    "    \"\"\"Replace some nests by constructing new solutions/nests\"\"\"\n",
    "\n",
    "    # Discovered or not\n",
    "    tempnest = np.zeros((n, dim))\n",
    "\n",
    "    K = np.random.uniform(0, 1, (n, dim)) > pa\n",
    "\n",
    "    stepsize = random.random() * (\n",
    "        nest[np.random.permutation(n), :] - nest[np.random.permutation(n), :]\n",
    "    )\n",
    "\n",
    "    tempnest = nest + stepsize * K\n",
    "\n",
    "    tempnest = np.int_(tempnest)\n",
    "    for j in range(len(tempnest)):\n",
    "        tempnest[j] = np.clip(tempnest[j], lb, ub)\n",
    "        tempnest[j].sort()\n",
    "\n",
    "    return tempnest"
   ]
  },
  {
   "cell_type": "code",
   "execution_count": 26,
   "metadata": {},
   "outputs": [],
   "source": [
    "def get_cuckoos(nest, best, lb, ub, n, dim):\n",
    "    tempnest = np.zeros((n, dim))\n",
    "    tempnest = np.array(nest)\n",
    "    beta = 3 / 2\n",
    "\n",
    "    sigma = (\n",
    "        math.gamma(1 + beta) * math.sin(math.pi * beta / 2)\n",
    "        / \n",
    "        (math.gamma((1 + beta) / 2) * beta * 2 ** ((beta - 1) / 2))\n",
    "    ) ** (1 / beta)\n",
    "\n",
    "    s = np.zeros(dim)\n",
    "\n",
    "    for j in range(0, n):\n",
    "        s = nest[j, :]\n",
    "        u = np.random.randn(len(s)) * sigma\n",
    "        v = np.random.randn(len(s))\n",
    "        step = u / abs(v) ** (1 / beta)\n",
    "\n",
    "        stepsize = 0.01 * (step * (s - best))\n",
    "\n",
    "        s = s + stepsize * np.random.randn(len(s))\n",
    "\n",
    "        tempnest[j] = np.clip(s, lb, ub)\n",
    "        tempnest[j].sort()\n",
    "            \n",
    "    return tempnest"
   ]
  },
  {
   "cell_type": "code",
   "execution_count": 27,
   "metadata": {},
   "outputs": [],
   "source": [
    "def get_best_nest(nest, new_nest, fitness, n, dim, hist, lb, ub, objectivefunc, q):\n",
    "    tempnest = np.zeros((n, dim))\n",
    "    tempnest = np.copy(nest)\n",
    "    \n",
    "    for j in range(0, n):\n",
    "        fnew = objectivefunc(hist, new_nest[j], lb, ub, q)\n",
    "        if fnew <= fitness[j]:\n",
    "            fitness[j] = fnew\n",
    "            tempnest[j, :] = new_nest[j, :]\n",
    "\n",
    "\n",
    "    fmax = max(fitness)\n",
    "    K = np.argmax(fitness)\n",
    "    bestlocal = tempnest[K]\n",
    "\n",
    "    return fmax, bestlocal, tempnest, fitness"
   ]
  },
  {
   "cell_type": "code",
   "execution_count": 28,
   "metadata": {},
   "outputs": [],
   "source": [
    "def wspCuckooSearch(n, dim, pa, maxGeneration, hist, lb, ub, objFunc, q):\n",
    "    \"\"\"\"\n",
    "    Cuckoo Search algorithm\n",
    "\n",
    "    :param n: number of nests (or different solutions)\n",
    "    :param dim: dimension\n",
    "    :param pa: probability of egg found\n",
    "    :param maxGeneration: number of max generation\n",
    "    :param hist: histogram\n",
    "\n",
    "    :return: thresholding set fi = {l1, l2, ..., ld }\n",
    "    \"\"\"\n",
    "    t = 0\n",
    "    best_nest = [0]*dim\n",
    "\n",
    "    # random.seed(0) # Reset the random generator\n",
    "\n",
    "    nests = [] # random inital population\n",
    "\n",
    "    for _ in range(n): # generate cuckoos with d-dimensional solution\n",
    "        cuckoos = random.sample(range(lb,ub), dim)\n",
    "        cuckoos.sort()\n",
    "        nests.append(cuckoos)\n",
    "\n",
    "    new_nest = np.zeros((n, dim))\n",
    "    new_nest = np.copy(nests)\n",
    "\n",
    "    fitness = np.zeros(n) # Initial fitness of each solution\n",
    "\n",
    "    fmax, best_nest, nests, fitness = get_best_nest(nests, new_nest, fitness, n, dim, hist, lb, ub, objFunc, q)\n",
    "\n",
    "    while t < maxGeneration:\n",
    "        # Generate new solutions (but keep the current best)\n",
    "        new_nest = get_cuckoos(nests, best_nest, lb, ub, n, dim)\n",
    "        # Evaluate new solutions and find best\n",
    "        fnew, best, nests, fitness = get_best_nest(nests, new_nest, fitness, n, dim, hist, lb, ub, objFunc, q)\n",
    "\n",
    "        new_nest = empty_nests(new_nest, pa, n, dim, lb, ub)\n",
    "        \n",
    "        # Evaluate new solutions and find best\n",
    "        fnew, best, nests, fitness = get_best_nest(nests, new_nest, fitness, n, dim, hist, lb, ub, objFunc, q)\n",
    "\n",
    "        if fnew > fmax:\n",
    "            fmax = fnew\n",
    "            best_nest = best\n",
    "\n",
    "        t+=1\n",
    "        \n",
    "    return best_nest"
   ]
  }
 ],
 "metadata": {
  "kernelspec": {
   "display_name": "Python 3.10.4 ('tcc_env')",
   "language": "python",
   "name": "python3"
  },
  "language_info": {
   "codemirror_mode": {
    "name": "ipython",
    "version": 3
   },
   "file_extension": ".py",
   "mimetype": "text/x-python",
   "name": "python",
   "nbconvert_exporter": "python",
   "pygments_lexer": "ipython3",
   "version": "3.10.4"
  },
  "orig_nbformat": 4,
  "vscode": {
   "interpreter": {
    "hash": "50c3a715107fe4dcdc7dcc1225e41dc08fefd31cb688eb0c1f730ec66093fb86"
   }
  }
 },
 "nbformat": 4,
 "nbformat_minor": 2
}
