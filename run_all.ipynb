{
 "cells": [
  {
   "cell_type": "code",
   "execution_count": 90,
   "metadata": {},
   "outputs": [],
   "source": [
    "import cv2\n",
    "import matplotlib.pyplot as plt\n",
    "import importlib\n",
    "import os\n",
    "import concurrent.futures\n",
    "from itertools import repeat"
   ]
  },
  {
   "cell_type": "code",
   "execution_count": 91,
   "metadata": {},
   "outputs": [
    {
     "data": {
      "text/plain": [
       "<module 'ipynb.fs.full.automaticQCalculation' (/media/webis/Data Both/OneDrive - FEI/Projetos/GitHub/image-segmentation/automaticQCalculation.ipynb)>"
      ]
     },
     "execution_count": 91,
     "metadata": {},
     "output_type": "execute_result"
    }
   ],
   "source": [
    "import ipynb.fs.full.wspFFA as wspFirefly\n",
    "import ipynb.fs.full.wspCS as wspCuckooSearch\n",
    "import ipynb.fs.full.wspKH as wspKrillHerd\n",
    "import ipynb.fs.full.wspEHO as wspElephantHerding\n",
    "import ipynb.fs.full.wspABC as wspArtificialBeeColony\n",
    "\n",
    "import ipynb.fs.full.plotGraph as plotGraph\n",
    "import ipynb.fs.full.wspMultithreshold as wspMultithreshold\n",
    "import ipynb.fs.full.dicomHandler as dicomHandler\n",
    "import ipynb.fs.full.npyHandler as npyHandler\n",
    "\n",
    "import ipynb.fs.full.wspTsallisEvaluation as wspTsallisEvaluation\n",
    "import ipynb.fs.full.wspShannonEvaluation as wspShannonEvaluation\n",
    "\n",
    "import ipynb.fs.full.automaticQCalculation as automaticQCalculation\n",
    "\n",
    "importlib.reload(wspFirefly)\n",
    "importlib.reload(wspCuckooSearch)\n",
    "importlib.reload(wspKrillHerd)\n",
    "importlib.reload(wspElephantHerding)\n",
    "importlib.reload(wspArtificialBeeColony)\n",
    "\n",
    "importlib.reload(plotGraph)\n",
    "importlib.reload(wspMultithreshold)\n",
    "importlib.reload(dicomHandler)\n",
    "importlib.reload(wspTsallisEvaluation)\n",
    "\n",
    "importlib.reload(automaticQCalculation)"
   ]
  },
  {
   "cell_type": "code",
   "execution_count": 92,
   "metadata": {},
   "outputs": [],
   "source": [
    "folder_dir = \"Dataset/original\"\n",
    "folder_gt_dir = \"Dataset/segmented\"\n",
    "output_dir = \"Results/\"\n",
    "\n",
    "all_slices = os.listdir(folder_dir)"
   ]
  },
  {
   "cell_type": "code",
   "execution_count": 93,
   "metadata": {},
   "outputs": [],
   "source": [
    "if not os.path.exists(output_dir):\n",
    "    os.mkdir(output_dir)"
   ]
  },
  {
   "cell_type": "code",
   "execution_count": 94,
   "metadata": {},
   "outputs": [],
   "source": [
    "bio_algorithms = ['FFA','KH', 'CS', 'ABC', 'EHO']\n",
    "limiares = [1,2,3,4,5]\n",
    "transform_values = [1, 1.2, 1.4, 1.6, 1.8]"
   ]
  },
  {
   "cell_type": "code",
   "execution_count": 95,
   "metadata": {},
   "outputs": [],
   "source": [
    "def segment_slice(image_name, gamma, bio, limiar, output_dir_high, output_dir_big):\n",
    "    npy_img = folder_dir + '/' + image_name\n",
    "    \n",
    "    q = automaticQCalculation.get_best_q(npy_img)\n",
    "\n",
    "    pixel_array = npyHandler.read_npy_image(npy_img)\n",
    "\n",
    "    original_image = pixel_array.copy()\n",
    "\n",
    "    print(npy_img)\n",
    "    transformed_pixel_array = npyHandler.image_transformation(pixel_array, gamma)\n",
    "\n",
    "    hist, bin_edges, best_thresholds, img_thres = wspMultithreshold.wspMultithreshold(transformed_pixel_array, bio, limiar, q)\n",
    "\n",
    "    high_intensity = wspMultithreshold.get_high_intensity_pixels(img_thres)\n",
    "\n",
    "    pixel_array = npyHandler.transform_to_npy_pixel_array(high_intensity)\n",
    "\n",
    "    hard_tissue = wspMultithreshold.get_largests_regions(pixel_array, original_image)\n",
    "\n",
    "    npyHandler.save_npy(pixel_array, f'{output_dir_high}/{image_name}')\n",
    "    npyHandler.save_npy(hard_tissue, f'{output_dir_big}/{image_name}')\n",
    "\n",
    "    print(f'{output_dir_big}/{image_name}')"
   ]
  },
  {
   "cell_type": "code",
   "execution_count": 96,
   "metadata": {},
   "outputs": [],
   "source": [
    "def run_all():\n",
    "    for bio in bio_algorithms:\n",
    "        for lim in limiares:\n",
    "            for gamma in transform_values:\n",
    "                output_dir_big = output_dir + f\"Big_{bio}_d{lim}_t{gamma}\"\n",
    "                output_dir_high = output_dir + f\"High_{bio}_d{lim}_t{gamma}\"\n",
    "\n",
    "                if not os.path.exists(output_dir_high):\n",
    "                    os.mkdir(output_dir_high)\n",
    "                if not os.path.exists(output_dir_big):\n",
    "                    os.mkdir(output_dir_big)\n",
    "\n",
    "                #with concurrent.futures.ProcessPoolExecutor() as executor:\n",
    "                #    executor.map(segment_slice, all_slices, repeat(gamma), repeat(bio), repeat(lim), repeat(output_dir_high), repeat(output_dir_big))\n",
    "                for slices in all_slices:\n",
    "                    segment_slice(slices, gamma, bio, lim, output_dir_high, output_dir_big)\n",
    "\n",
    "                print(f'Done: {bio}-d{lim}-t{gamma}')"
   ]
  },
  {
   "cell_type": "code",
   "execution_count": null,
   "metadata": {},
   "outputs": [
    {
     "name": "stdout",
     "output_type": "stream",
     "text": [
      "Dataset/original/CASE_10_7.npyDataset/original/CASE_10_6.npyDataset/original/CASE_10_5.npy\n",
      "\n",
      "Dataset/original/CASE_10_1.npyDataset/original/CASE_10_3.npyDataset/original/CASE_10_10.npy\n",
      "\n",
      "Dataset/original/CASE_10_2.npyDataset/original/CASE_10_4.npy\n",
      "\n",
      "\n",
      "\n",
      "-1021.0 2317.0\n",
      "-1021.0 "
     ]
    },
    {
     "name": "stderr",
     "output_type": "stream",
     "text": [
      "/media/webis/Data Both/OneDrive - FEI/Projetos/GitHub/image-segmentation/segmentation_env/lib/python3.11/site-packages/sklearn/cluster/_kmeans.py:870: FutureWarning: The default value of `n_init` will change from 10 to 'auto' in 1.4. Set the value of `n_init` explicitly to suppress the warning\n",
      "  warnings.warn(\n"
     ]
    },
    {
     "name": "stdout",
     "output_type": "stream",
     "text": [
      "2401.0\n"
     ]
    },
    {
     "name": "stderr",
     "output_type": "stream",
     "text": [
      "/media/webis/Data Both/OneDrive - FEI/Projetos/GitHub/image-segmentation/segmentation_env/lib/python3.11/site-packages/sklearn/cluster/_kmeans.py:870: FutureWarning: The default value of `n_init` will change from 10 to 'auto' in 1.4. Set the value of `n_init` explicitly to suppress the warning\n",
      "  warnings.warn(\n"
     ]
    },
    {
     "name": "stdout",
     "output_type": "stream",
     "text": [
      "-1021.0 -1021.02362.0 2411.0\n",
      "-1021.0 2477.0\n",
      "-1021.0\n",
      " -1021.02475.0 2396.0\n",
      "\n"
     ]
    },
    {
     "name": "stderr",
     "output_type": "stream",
     "text": [
      "/media/webis/Data Both/OneDrive - FEI/Projetos/GitHub/image-segmentation/segmentation_env/lib/python3.11/site-packages/sklearn/cluster/_kmeans.py:870: FutureWarning: The default value of `n_init` will change from 10 to 'auto' in 1.4. Set the value of `n_init` explicitly to suppress the warning\n",
      "  warnings.warn(\n"
     ]
    },
    {
     "name": "stdout",
     "output_type": "stream",
     "text": [
      "-1021.0 "
     ]
    },
    {
     "name": "stderr",
     "output_type": "stream",
     "text": [
      "/media/webis/Data Both/OneDrive - FEI/Projetos/GitHub/image-segmentation/segmentation_env/lib/python3.11/site-packages/sklearn/cluster/_kmeans.py:870: FutureWarning: The default value of `n_init` will change from 10 to 'auto' in 1.4. Set the value of `n_init` explicitly to suppress the warning\n",
      "  warnings.warn(\n"
     ]
    },
    {
     "name": "stdout",
     "output_type": "stream",
     "text": [
      "Done: FFA-d1-t1\n",
      "Dataset/original/CASE_10_3.npyDataset/original/CASE_10_10.npyDataset/original/CASE_10_2.npyDataset/original/CASE_10_1.npy\n",
      "\n",
      "Dataset/original/CASE_10_7.npy\n",
      "\n",
      "\n",
      "Dataset/original/CASE_10_5.npyDataset/original/CASE_10_6.npy\n",
      "Dataset/original/CASE_10_4.npy\n",
      "\n",
      "-1021.0-1021.0 2317.0 2401.0\n",
      "\n",
      "-1021.0 2411.0\n"
     ]
    },
    {
     "name": "stderr",
     "output_type": "stream",
     "text": [
      "/media/webis/Data Both/OneDrive - FEI/Projetos/GitHub/image-segmentation/segmentation_env/lib/python3.11/site-packages/sklearn/cluster/_kmeans.py:870: FutureWarning: The default value of `n_init` will change from 10 to 'auto' in 1.4. Set the value of `n_init` explicitly to suppress the warning\n",
      "  warnings.warn(\n"
     ]
    },
    {
     "name": "stdout",
     "output_type": "stream",
     "text": [
      "-1021.0 "
     ]
    },
    {
     "name": "stderr",
     "output_type": "stream",
     "text": [
      "/media/webis/Data Both/OneDrive - FEI/Projetos/GitHub/image-segmentation/segmentation_env/lib/python3.11/site-packages/sklearn/cluster/_kmeans.py:870: FutureWarning: The default value of `n_init` will change from 10 to 'auto' in 1.4. Set the value of `n_init` explicitly to suppress the warning\n",
      "  warnings.warn(\n"
     ]
    },
    {
     "name": "stdout",
     "output_type": "stream",
     "text": [
      "2467.0\n"
     ]
    },
    {
     "name": "stderr",
     "output_type": "stream",
     "text": [
      "/media/webis/Data Both/OneDrive - FEI/Projetos/GitHub/image-segmentation/segmentation_env/lib/python3.11/site-packages/sklearn/cluster/_kmeans.py:870: FutureWarning: The default value of `n_init` will change from 10 to 'auto' in 1.4. Set the value of `n_init` explicitly to suppress the warning\n",
      "  warnings.warn(\n",
      "/media/webis/Data Both/OneDrive - FEI/Projetos/GitHub/image-segmentation/segmentation_env/lib/python3.11/site-packages/sklearn/cluster/_kmeans.py:870: FutureWarning: The default value of `n_init` will change from 10 to 'auto' in 1.4. Set the value of `n_init` explicitly to suppress the warning\n",
      "  warnings.warn(\n"
     ]
    },
    {
     "name": "stdout",
     "output_type": "stream",
     "text": [
      "-1021.0 2477.0\n"
     ]
    },
    {
     "name": "stderr",
     "output_type": "stream",
     "text": [
      "/media/webis/Data Both/OneDrive - FEI/Projetos/GitHub/image-segmentation/segmentation_env/lib/python3.11/site-packages/sklearn/cluster/_kmeans.py:870: FutureWarning: The default value of `n_init` will change from 10 to 'auto' in 1.4. Set the value of `n_init` explicitly to suppress the warning\n",
      "  warnings.warn(\n"
     ]
    },
    {
     "name": "stdout",
     "output_type": "stream",
     "text": [
      "Done: FFA-d1-t1.2\n",
      "Dataset/original/CASE_10_2.npy\n",
      "Dataset/original/CASE_10_5.npy\n",
      "Dataset/original/CASE_10_6.npyDataset/original/CASE_10_1.npyDataset/original/CASE_10_4.npy\n",
      "\n",
      "Dataset/original/CASE_10_3.npyDataset/original/CASE_10_10.npy\n",
      "\n",
      "\n",
      "Dataset/original/CASE_10_7.npy\n",
      "-1021.0 2362.0\n"
     ]
    },
    {
     "name": "stderr",
     "output_type": "stream",
     "text": [
      "/media/webis/Data Both/OneDrive - FEI/Projetos/GitHub/image-segmentation/segmentation_env/lib/python3.11/site-packages/sklearn/cluster/_kmeans.py:870: FutureWarning: The default value of `n_init` will change from 10 to 'auto' in 1.4. Set the value of `n_init` explicitly to suppress the warning\n",
      "  warnings.warn(\n"
     ]
    },
    {
     "name": "stdout",
     "output_type": "stream",
     "text": [
      "-1021.0 2317.0\n",
      "-1021.0 2475.0\n"
     ]
    },
    {
     "name": "stderr",
     "output_type": "stream",
     "text": [
      "/media/webis/Data Both/OneDrive - FEI/Projetos/GitHub/image-segmentation/segmentation_env/lib/python3.11/site-packages/sklearn/cluster/_kmeans.py:870: FutureWarning: The default value of `n_init` will change from 10 to 'auto' in 1.4. Set the value of `n_init` explicitly to suppress the warning\n",
      "  warnings.warn(\n"
     ]
    },
    {
     "name": "stdout",
     "output_type": "stream",
     "text": [
      "Done: FFA-d1-t1.4\n",
      "Dataset/original/CASE_10_3.npyDataset/original/CASE_10_4.npyDataset/original/CASE_10_1.npy\n",
      "\n",
      "Dataset/original/CASE_10_2.npy\n",
      "Dataset/original/CASE_10_7.npyDataset/original/CASE_10_10.npyDataset/original/CASE_10_6.npy\n",
      "\n",
      "\n",
      "Dataset/original/CASE_10_5.npy\n",
      "\n",
      "-1021.0 2477.0\n",
      "-1021.0-1021.0  -1021.02411.02317.0 \n",
      "2467.0"
     ]
    },
    {
     "name": "stderr",
     "output_type": "stream",
     "text": [
      "/media/webis/Data Both/OneDrive - FEI/Projetos/GitHub/image-segmentation/segmentation_env/lib/python3.11/site-packages/sklearn/cluster/_kmeans.py:870: FutureWarning: The default value of `n_init` will change from 10 to 'auto' in 1.4. Set the value of `n_init` explicitly to suppress the warning\n",
      "  warnings.warn(\n"
     ]
    },
    {
     "name": "stdout",
     "output_type": "stream",
     "text": [
      "\n",
      "\n",
      "-1021.0 2396.0\n"
     ]
    },
    {
     "name": "stderr",
     "output_type": "stream",
     "text": [
      "/media/webis/Data Both/OneDrive - FEI/Projetos/GitHub/image-segmentation/segmentation_env/lib/python3.11/site-packages/sklearn/cluster/_kmeans.py:870: FutureWarning: The default value of `n_init` will change from 10 to 'auto' in 1.4. Set the value of `n_init` explicitly to suppress the warning\n",
      "  warnings.warn(\n",
      "/media/webis/Data Both/OneDrive - FEI/Projetos/GitHub/image-segmentation/segmentation_env/lib/python3.11/site-packages/sklearn/cluster/_kmeans.py:870: FutureWarning: The default value of `n_init` will change from 10 to 'auto' in 1.4. Set the value of `n_init` explicitly to suppress the warning\n",
      "  warnings.warn(\n",
      "/media/webis/Data Both/OneDrive - FEI/Projetos/GitHub/image-segmentation/segmentation_env/lib/python3.11/site-packages/sklearn/cluster/_kmeans.py:870: FutureWarning: The default value of `n_init` will change from 10 to 'auto' in 1.4. Set the value of `n_init` explicitly to suppress the warning\n",
      "  warnings.warn(\n"
     ]
    },
    {
     "name": "stdout",
     "output_type": "stream",
     "text": [
      "-1021.0 2475.0\n"
     ]
    },
    {
     "name": "stderr",
     "output_type": "stream",
     "text": [
      "/media/webis/Data Both/OneDrive - FEI/Projetos/GitHub/image-segmentation/segmentation_env/lib/python3.11/site-packages/sklearn/cluster/_kmeans.py:870: FutureWarning: The default value of `n_init` will change from 10 to 'auto' in 1.4. Set the value of `n_init` explicitly to suppress the warning\n",
      "  warnings.warn(\n"
     ]
    },
    {
     "name": "stdout",
     "output_type": "stream",
     "text": [
      "Done: FFA-d1-t1.6\n",
      "Dataset/original/CASE_10_1.npy\n",
      "Dataset/original/CASE_10_6.npy\n",
      "Dataset/original/CASE_10_4.npyDataset/original/CASE_10_7.npy\n",
      "Dataset/original/CASE_10_2.npyDataset/original/CASE_10_10.npy\n",
      "\n",
      "\n",
      "Dataset/original/CASE_10_5.npyDataset/original/CASE_10_3.npy\n",
      "\n",
      "-1021.0 2475.0\n",
      "-1021.0 2396.0\n"
     ]
    },
    {
     "name": "stderr",
     "output_type": "stream",
     "text": [
      "/media/webis/Data Both/OneDrive - FEI/Projetos/GitHub/image-segmentation/segmentation_env/lib/python3.11/site-packages/sklearn/cluster/_kmeans.py:870: FutureWarning: The default value of `n_init` will change from 10 to 'auto' in 1.4. Set the value of `n_init` explicitly to suppress the warning\n",
      "  warnings.warn(\n",
      "/media/webis/Data Both/OneDrive - FEI/Projetos/GitHub/image-segmentation/segmentation_env/lib/python3.11/site-packages/sklearn/cluster/_kmeans.py:870: FutureWarning: The default value of `n_init` will change from 10 to 'auto' in 1.4. Set the value of `n_init` explicitly to suppress the warning\n",
      "  warnings.warn(\n"
     ]
    },
    {
     "name": "stdout",
     "output_type": "stream",
     "text": [
      "-1021.0 2477.0\n",
      "-1021.0"
     ]
    },
    {
     "name": "stderr",
     "output_type": "stream",
     "text": [
      "/media/webis/Data Both/OneDrive - FEI/Projetos/GitHub/image-segmentation/segmentation_env/lib/python3.11/site-packages/sklearn/cluster/_kmeans.py:870: FutureWarning: The default value of `n_init` will change from 10 to 'auto' in 1.4. Set the value of `n_init` explicitly to suppress the warning\n",
      "  warnings.warn(\n"
     ]
    },
    {
     "name": "stdout",
     "output_type": "stream",
     "text": [
      " -1021.02362.0 \n",
      "2317.0\n"
     ]
    },
    {
     "name": "stderr",
     "output_type": "stream",
     "text": [
      "/media/webis/Data Both/OneDrive - FEI/Projetos/GitHub/image-segmentation/segmentation_env/lib/python3.11/site-packages/sklearn/cluster/_kmeans.py:870: FutureWarning: The default value of `n_init` will change from 10 to 'auto' in 1.4. Set the value of `n_init` explicitly to suppress the warning\n",
      "  warnings.warn(\n"
     ]
    },
    {
     "name": "stdout",
     "output_type": "stream",
     "text": [
      "-1021.0 2467.0"
     ]
    },
    {
     "name": "stderr",
     "output_type": "stream",
     "text": [
      "/media/webis/Data Both/OneDrive - FEI/Projetos/GitHub/image-segmentation/segmentation_env/lib/python3.11/site-packages/sklearn/cluster/_kmeans.py:870: FutureWarning: The default value of `n_init` will change from 10 to 'auto' in 1.4. Set the value of `n_init` explicitly to suppress the warning\n",
      "  warnings.warn(\n"
     ]
    },
    {
     "name": "stdout",
     "output_type": "stream",
     "text": [
      "\n",
      "Done: FFA-d1-t1.8\n",
      "Dataset/original/CASE_10_4.npyDataset/original/CASE_10_5.npy\n",
      "Dataset/original/CASE_10_10.npyDataset/original/CASE_10_2.npy\n",
      "Dataset/original/CASE_10_3.npy\n",
      "\n",
      "Dataset/original/CASE_10_1.npy\n",
      "\n",
      "Dataset/original/CASE_10_6.npy"
     ]
    },
    {
     "name": "stderr",
     "output_type": "stream",
     "text": [
      "/media/webis/Data Both/OneDrive - FEI/Projetos/GitHub/image-segmentation/wspTsallisEvaluation.ipynb:19: RuntimeWarning: invalid value encountered in divide\n",
      "  \"$$S_q(H) = \\\\frac{1 - \\\\sum_{i=1}^{L}(h_i)^q}{q-1}$$\\n\"\n",
      "/media/webis/Data Both/OneDrive - FEI/Projetos/GitHub/image-segmentation/wspTsallisEvaluation.ipynb:19: RuntimeWarning: invalid value encountered in divide\n",
      "  \"$$S_q(H) = \\\\frac{1 - \\\\sum_{i=1}^{L}(h_i)^q}{q-1}$$\\n\"\n",
      "/media/webis/Data Both/OneDrive - FEI/Projetos/GitHub/image-segmentation/wspTsallisEvaluation.ipynb:19: RuntimeWarning: invalid value encountered in divide\n",
      "  \"$$S_q(H) = \\\\frac{1 - \\\\sum_{i=1}^{L}(h_i)^q}{q-1}$$\\n\"\n"
     ]
    },
    {
     "name": "stdout",
     "output_type": "stream",
     "text": [
      "Dataset/original/CASE_10_7.npy\n",
      "\n"
     ]
    },
    {
     "name": "stderr",
     "output_type": "stream",
     "text": [
      "/media/webis/Data Both/OneDrive - FEI/Projetos/GitHub/image-segmentation/wspTsallisEvaluation.ipynb:19: RuntimeWarning: invalid value encountered in divide\n",
      "  \"$$S_q(H) = \\\\frac{1 - \\\\sum_{i=1}^{L}(h_i)^q}{q-1}$$\\n\"\n",
      "/media/webis/Data Both/OneDrive - FEI/Projetos/GitHub/image-segmentation/wspTsallisEvaluation.ipynb:19: RuntimeWarning: invalid value encountered in divide\n",
      "  \"$$S_q(H) = \\\\frac{1 - \\\\sum_{i=1}^{L}(h_i)^q}{q-1}$$\\n\"\n",
      "/media/webis/Data Both/OneDrive - FEI/Projetos/GitHub/image-segmentation/wspTsallisEvaluation.ipynb:19: RuntimeWarning: invalid value encountered in divide\n",
      "  \"$$S_q(H) = \\\\frac{1 - \\\\sum_{i=1}^{L}(h_i)^q}{q-1}$$\\n\"\n",
      "/media/webis/Data Both/OneDrive - FEI/Projetos/GitHub/image-segmentation/wspTsallisEvaluation.ipynb:19: RuntimeWarning: invalid value encountered in divide\n",
      "  \"$$S_q(H) = \\\\frac{1 - \\\\sum_{i=1}^{L}(h_i)^q}{q-1}$$\\n\"\n",
      "/media/webis/Data Both/OneDrive - FEI/Projetos/GitHub/image-segmentation/wspTsallisEvaluation.ipynb:19: RuntimeWarning: invalid value encountered in divide\n",
      "  \"$$S_q(H) = \\\\frac{1 - \\\\sum_{i=1}^{L}(h_i)^q}{q-1}$$\\n\"\n"
     ]
    },
    {
     "name": "stdout",
     "output_type": "stream",
     "text": [
      "-1021.0 2401.0\n"
     ]
    },
    {
     "name": "stderr",
     "output_type": "stream",
     "text": [
      "/media/webis/Data Both/OneDrive - FEI/Projetos/GitHub/image-segmentation/segmentation_env/lib/python3.11/site-packages/sklearn/cluster/_kmeans.py:870: FutureWarning: The default value of `n_init` will change from 10 to 'auto' in 1.4. Set the value of `n_init` explicitly to suppress the warning\n",
      "  warnings.warn(\n"
     ]
    },
    {
     "name": "stdout",
     "output_type": "stream",
     "text": [
      "-1021.0-1021.0 2362.0\n",
      " 2467.0\n",
      "-1021.0"
     ]
    },
    {
     "name": "stderr",
     "output_type": "stream",
     "text": [
      "/media/webis/Data Both/OneDrive - FEI/Projetos/GitHub/image-segmentation/segmentation_env/lib/python3.11/site-packages/sklearn/cluster/_kmeans.py:870: FutureWarning: The default value of `n_init` will change from 10 to 'auto' in 1.4. Set the value of `n_init` explicitly to suppress the warning\n",
      "  warnings.warn(\n"
     ]
    },
    {
     "name": "stdout",
     "output_type": "stream",
     "text": [
      " 2477.0"
     ]
    },
    {
     "name": "stderr",
     "output_type": "stream",
     "text": [
      "/media/webis/Data Both/OneDrive - FEI/Projetos/GitHub/image-segmentation/segmentation_env/lib/python3.11/site-packages/sklearn/cluster/_kmeans.py:870: FutureWarning: The default value of `n_init` will change from 10 to 'auto' in 1.4. Set the value of `n_init` explicitly to suppress the warning\n",
      "  warnings.warn(\n"
     ]
    },
    {
     "name": "stdout",
     "output_type": "stream",
     "text": [
      "\n",
      "-1021.0 2475.0Done: FFA-d2-t1\n",
      "Dataset/original/CASE_10_10.npy\n",
      "Dataset/original/CASE_10_5.npyDataset/original/CASE_10_4.npy\n",
      "Dataset/original/CASE_10_1.npy\n",
      "\n",
      "Dataset/original/CASE_10_2.npyDataset/original/CASE_10_6.npy\n",
      "\n",
      "Dataset/original/CASE_10_3.npy"
     ]
    },
    {
     "name": "stderr",
     "output_type": "stream",
     "text": [
      "/media/webis/Data Both/OneDrive - FEI/Projetos/GitHub/image-segmentation/wspTsallisEvaluation.ipynb:19: RuntimeWarning: invalid value encountered in divide\n",
      "  \"$$S_q(H) = \\\\frac{1 - \\\\sum_{i=1}^{L}(h_i)^q}{q-1}$$\\n\"\n"
     ]
    },
    {
     "name": "stdout",
     "output_type": "stream",
     "text": [
      "Dataset/original/CASE_10_7.npy\n",
      "\n"
     ]
    },
    {
     "name": "stderr",
     "output_type": "stream",
     "text": [
      "/media/webis/Data Both/OneDrive - FEI/Projetos/GitHub/image-segmentation/wspTsallisEvaluation.ipynb:19: RuntimeWarning: invalid value encountered in divide\n",
      "  \"$$S_q(H) = \\\\frac{1 - \\\\sum_{i=1}^{L}(h_i)^q}{q-1}$$\\n\"\n",
      "/media/webis/Data Both/OneDrive - FEI/Projetos/GitHub/image-segmentation/wspTsallisEvaluation.ipynb:19: RuntimeWarning: invalid value encountered in divide\n",
      "  \"$$S_q(H) = \\\\frac{1 - \\\\sum_{i=1}^{L}(h_i)^q}{q-1}$$\\n\"\n",
      "/media/webis/Data Both/OneDrive - FEI/Projetos/GitHub/image-segmentation/wspTsallisEvaluation.ipynb:19: RuntimeWarning: invalid value encountered in divide\n",
      "  \"$$S_q(H) = \\\\frac{1 - \\\\sum_{i=1}^{L}(h_i)^q}{q-1}$$\\n\"\n",
      "/media/webis/Data Both/OneDrive - FEI/Projetos/GitHub/image-segmentation/wspTsallisEvaluation.ipynb:19: RuntimeWarning: invalid value encountered in divide\n",
      "  \"$$S_q(H) = \\\\frac{1 - \\\\sum_{i=1}^{L}(h_i)^q}{q-1}$$\\n\"\n",
      "/media/webis/Data Both/OneDrive - FEI/Projetos/GitHub/image-segmentation/wspTsallisEvaluation.ipynb:19: RuntimeWarning: invalid value encountered in divide\n",
      "  \"$$S_q(H) = \\\\frac{1 - \\\\sum_{i=1}^{L}(h_i)^q}{q-1}$$\\n\"\n",
      "/media/webis/Data Both/OneDrive - FEI/Projetos/GitHub/image-segmentation/wspTsallisEvaluation.ipynb:19: RuntimeWarning: invalid value encountered in divide\n",
      "  \"$$S_q(H) = \\\\frac{1 - \\\\sum_{i=1}^{L}(h_i)^q}{q-1}$$\\n\"\n",
      "/media/webis/Data Both/OneDrive - FEI/Projetos/GitHub/image-segmentation/wspTsallisEvaluation.ipynb:19: RuntimeWarning: invalid value encountered in divide\n",
      "  \"$$S_q(H) = \\\\frac{1 - \\\\sum_{i=1}^{L}(h_i)^q}{q-1}$$\\n\"\n"
     ]
    },
    {
     "name": "stdout",
     "output_type": "stream",
     "text": [
      "-1021.0 2317.0\n"
     ]
    },
    {
     "name": "stderr",
     "output_type": "stream",
     "text": [
      "/media/webis/Data Both/OneDrive - FEI/Projetos/GitHub/image-segmentation/segmentation_env/lib/python3.11/site-packages/sklearn/cluster/_kmeans.py:870: FutureWarning: The default value of `n_init` will change from 10 to 'auto' in 1.4. Set the value of `n_init` explicitly to suppress the warning\n",
      "  warnings.warn(\n"
     ]
    },
    {
     "name": "stdout",
     "output_type": "stream",
     "text": [
      "Done: FFA-d2-t1.2\n",
      "Dataset/original/CASE_10_2.npy\n",
      "Dataset/original/CASE_10_6.npyDataset/original/CASE_10_3.npyDataset/original/CASE_10_4.npyDataset/original/CASE_10_10.npy\n",
      "\n",
      "\n",
      "\n",
      "Dataset/original/CASE_10_1.npyDataset/original/CASE_10_7.npyDataset/original/CASE_10_5.npy\n",
      "\n"
     ]
    },
    {
     "name": "stderr",
     "output_type": "stream",
     "text": [
      "/media/webis/Data Both/OneDrive - FEI/Projetos/GitHub/image-segmentation/wspTsallisEvaluation.ipynb:19: RuntimeWarning: invalid value encountered in divide\n",
      "  \"$$S_q(H) = \\\\frac{1 - \\\\sum_{i=1}^{L}(h_i)^q}{q-1}$$\\n\"\n",
      "/media/webis/Data Both/OneDrive - FEI/Projetos/GitHub/image-segmentation/wspTsallisEvaluation.ipynb:19: RuntimeWarning: invalid value encountered in divide\n",
      "  \"$$S_q(H) = \\\\frac{1 - \\\\sum_{i=1}^{L}(h_i)^q}{q-1}$$\\n\"\n"
     ]
    },
    {
     "name": "stdout",
     "output_type": "stream",
     "text": [
      "\n"
     ]
    },
    {
     "name": "stderr",
     "output_type": "stream",
     "text": [
      "/media/webis/Data Both/OneDrive - FEI/Projetos/GitHub/image-segmentation/wspTsallisEvaluation.ipynb:19: RuntimeWarning: invalid value encountered in divide\n",
      "  \"$$S_q(H) = \\\\frac{1 - \\\\sum_{i=1}^{L}(h_i)^q}{q-1}$$\\n\"\n",
      "/media/webis/Data Both/OneDrive - FEI/Projetos/GitHub/image-segmentation/wspTsallisEvaluation.ipynb:19: RuntimeWarning: invalid value encountered in divide\n",
      "  \"$$S_q(H) = \\\\frac{1 - \\\\sum_{i=1}^{L}(h_i)^q}{q-1}$$\\n\"\n",
      "/media/webis/Data Both/OneDrive - FEI/Projetos/GitHub/image-segmentation/wspTsallisEvaluation.ipynb:19: RuntimeWarning: invalid value encountered in divide\n",
      "  \"$$S_q(H) = \\\\frac{1 - \\\\sum_{i=1}^{L}(h_i)^q}{q-1}$$\\n\"\n",
      "/media/webis/Data Both/OneDrive - FEI/Projetos/GitHub/image-segmentation/wspTsallisEvaluation.ipynb:19: RuntimeWarning: invalid value encountered in divide\n",
      "  \"$$S_q(H) = \\\\frac{1 - \\\\sum_{i=1}^{L}(h_i)^q}{q-1}$$\\n\"\n",
      "/media/webis/Data Both/OneDrive - FEI/Projetos/GitHub/image-segmentation/wspTsallisEvaluation.ipynb:19: RuntimeWarning: invalid value encountered in divide\n",
      "  \"$$S_q(H) = \\\\frac{1 - \\\\sum_{i=1}^{L}(h_i)^q}{q-1}$$\\n\"\n",
      "/media/webis/Data Both/OneDrive - FEI/Projetos/GitHub/image-segmentation/wspTsallisEvaluation.ipynb:19: RuntimeWarning: invalid value encountered in divide\n",
      "  \"$$S_q(H) = \\\\frac{1 - \\\\sum_{i=1}^{L}(h_i)^q}{q-1}$$\\n\"\n"
     ]
    },
    {
     "name": "stdout",
     "output_type": "stream",
     "text": [
      "-1021.0 2411.0\n"
     ]
    },
    {
     "name": "stderr",
     "output_type": "stream",
     "text": [
      "/media/webis/Data Both/OneDrive - FEI/Projetos/GitHub/image-segmentation/segmentation_env/lib/python3.11/site-packages/sklearn/cluster/_kmeans.py:870: FutureWarning: The default value of `n_init` will change from 10 to 'auto' in 1.4. Set the value of `n_init` explicitly to suppress the warning\n",
      "  warnings.warn(\n"
     ]
    },
    {
     "name": "stdout",
     "output_type": "stream",
     "text": [
      "Done: FFA-d2-t1.4\n",
      "Dataset/original/CASE_10_3.npyDataset/original/CASE_10_5.npyDataset/original/CASE_10_6.npyDataset/original/CASE_10_1.npy\n",
      "Dataset/original/CASE_10_2.npyDataset/original/CASE_10_4.npy\n",
      "\n",
      "\n",
      "\n",
      "\n",
      "Dataset/original/CASE_10_10.npy\n",
      "Dataset/original/CASE_10_7.npy"
     ]
    },
    {
     "name": "stderr",
     "output_type": "stream",
     "text": [
      "/media/webis/Data Both/OneDrive - FEI/Projetos/GitHub/image-segmentation/wspTsallisEvaluation.ipynb:19: RuntimeWarning: invalid value encountered in divide\n",
      "  \"$$S_q(H) = \\\\frac{1 - \\\\sum_{i=1}^{L}(h_i)^q}{q-1}$$\\n\"\n"
     ]
    },
    {
     "name": "stdout",
     "output_type": "stream",
     "text": [
      "\n"
     ]
    },
    {
     "name": "stderr",
     "output_type": "stream",
     "text": [
      "/media/webis/Data Both/OneDrive - FEI/Projetos/GitHub/image-segmentation/wspTsallisEvaluation.ipynb:19: RuntimeWarning: invalid value encountered in divide\n",
      "  \"$$S_q(H) = \\\\frac{1 - \\\\sum_{i=1}^{L}(h_i)^q}{q-1}$$\\n\"\n",
      "/media/webis/Data Both/OneDrive - FEI/Projetos/GitHub/image-segmentation/wspTsallisEvaluation.ipynb:19: RuntimeWarning: invalid value encountered in divide\n",
      "  \"$$S_q(H) = \\\\frac{1 - \\\\sum_{i=1}^{L}(h_i)^q}{q-1}$$\\n\"\n",
      "/media/webis/Data Both/OneDrive - FEI/Projetos/GitHub/image-segmentation/wspTsallisEvaluation.ipynb:19: RuntimeWarning: invalid value encountered in divide\n",
      "  \"$$S_q(H) = \\\\frac{1 - \\\\sum_{i=1}^{L}(h_i)^q}{q-1}$$\\n\"\n",
      "/media/webis/Data Both/OneDrive - FEI/Projetos/GitHub/image-segmentation/wspTsallisEvaluation.ipynb:19: RuntimeWarning: invalid value encountered in divide\n",
      "  \"$$S_q(H) = \\\\frac{1 - \\\\sum_{i=1}^{L}(h_i)^q}{q-1}$$\\n\"\n",
      "/media/webis/Data Both/OneDrive - FEI/Projetos/GitHub/image-segmentation/wspTsallisEvaluation.ipynb:19: RuntimeWarning: invalid value encountered in divide\n",
      "  \"$$S_q(H) = \\\\frac{1 - \\\\sum_{i=1}^{L}(h_i)^q}{q-1}$$\\n\"\n",
      "/media/webis/Data Both/OneDrive - FEI/Projetos/GitHub/image-segmentation/wspTsallisEvaluation.ipynb:19: RuntimeWarning: invalid value encountered in divide\n",
      "  \"$$S_q(H) = \\\\frac{1 - \\\\sum_{i=1}^{L}(h_i)^q}{q-1}$$\\n\"\n"
     ]
    },
    {
     "name": "stdout",
     "output_type": "stream",
     "text": [
      "-1021.0 2401.0\n"
     ]
    },
    {
     "name": "stderr",
     "output_type": "stream",
     "text": [
      "/media/webis/Data Both/OneDrive - FEI/Projetos/GitHub/image-segmentation/segmentation_env/lib/python3.11/site-packages/sklearn/cluster/_kmeans.py:870: FutureWarning: The default value of `n_init` will change from 10 to 'auto' in 1.4. Set the value of `n_init` explicitly to suppress the warning\n",
      "  warnings.warn(\n"
     ]
    },
    {
     "name": "stdout",
     "output_type": "stream",
     "text": [
      "-1021.0-1021.0  2396.0\n",
      "2317.0\n"
     ]
    },
    {
     "name": "stderr",
     "output_type": "stream",
     "text": [
      "/media/webis/Data Both/OneDrive - FEI/Projetos/GitHub/image-segmentation/segmentation_env/lib/python3.11/site-packages/sklearn/cluster/_kmeans.py:870: FutureWarning: The default value of `n_init` will change from 10 to 'auto' in 1.4. Set the value of `n_init` explicitly to suppress the warning\n",
      "  warnings.warn(\n",
      "/media/webis/Data Both/OneDrive - FEI/Projetos/GitHub/image-segmentation/segmentation_env/lib/python3.11/site-packages/sklearn/cluster/_kmeans.py:870: FutureWarning: The default value of `n_init` will change from 10 to 'auto' in 1.4. Set the value of `n_init` explicitly to suppress the warning\n",
      "  warnings.warn(\n"
     ]
    },
    {
     "name": "stdout",
     "output_type": "stream",
     "text": [
      "-1021.0 -1021.02362.0\n",
      " Done: FFA-d2-t1.6\n",
      "Dataset/original/CASE_10_3.npyDataset/original/CASE_10_4.npyDataset/original/CASE_10_2.npyDataset/original/CASE_10_10.npy\n",
      "\n",
      "\n",
      "\n",
      "Dataset/original/CASE_10_1.npy\n",
      "Dataset/original/CASE_10_5.npy\n",
      "Dataset/original/CASE_10_7.npyDataset/original/CASE_10_6.npy\n"
     ]
    },
    {
     "name": "stderr",
     "output_type": "stream",
     "text": [
      "/media/webis/Data Both/OneDrive - FEI/Projetos/GitHub/image-segmentation/wspTsallisEvaluation.ipynb:19: RuntimeWarning: invalid value encountered in divide\n",
      "  \"$$S_q(H) = \\\\frac{1 - \\\\sum_{i=1}^{L}(h_i)^q}{q-1}$$\\n\"\n",
      "/media/webis/Data Both/OneDrive - FEI/Projetos/GitHub/image-segmentation/wspTsallisEvaluation.ipynb:19: RuntimeWarning: invalid value encountered in divide\n",
      "  \"$$S_q(H) = \\\\frac{1 - \\\\sum_{i=1}^{L}(h_i)^q}{q-1}$$\\n\"\n"
     ]
    },
    {
     "name": "stdout",
     "output_type": "stream",
     "text": [
      "\n"
     ]
    },
    {
     "name": "stderr",
     "output_type": "stream",
     "text": [
      "/media/webis/Data Both/OneDrive - FEI/Projetos/GitHub/image-segmentation/wspTsallisEvaluation.ipynb:19: RuntimeWarning: invalid value encountered in divide\n",
      "  \"$$S_q(H) = \\\\frac{1 - \\\\sum_{i=1}^{L}(h_i)^q}{q-1}$$\\n\"\n",
      "/media/webis/Data Both/OneDrive - FEI/Projetos/GitHub/image-segmentation/wspTsallisEvaluation.ipynb:19: RuntimeWarning: invalid value encountered in divide\n",
      "  \"$$S_q(H) = \\\\frac{1 - \\\\sum_{i=1}^{L}(h_i)^q}{q-1}$$\\n\"\n",
      "/media/webis/Data Both/OneDrive - FEI/Projetos/GitHub/image-segmentation/wspTsallisEvaluation.ipynb:19: RuntimeWarning: invalid value encountered in divide\n",
      "  \"$$S_q(H) = \\\\frac{1 - \\\\sum_{i=1}^{L}(h_i)^q}{q-1}$$\\n\"\n"
     ]
    },
    {
     "name": "stdout",
     "output_type": "stream",
     "text": [
      "-1021.0 2467.0\n"
     ]
    },
    {
     "name": "stderr",
     "output_type": "stream",
     "text": [
      "/media/webis/Data Both/OneDrive - FEI/Projetos/GitHub/image-segmentation/segmentation_env/lib/python3.11/site-packages/sklearn/cluster/_kmeans.py:870: FutureWarning: The default value of `n_init` will change from 10 to 'auto' in 1.4. Set the value of `n_init` explicitly to suppress the warning\n",
      "  warnings.warn(\n"
     ]
    },
    {
     "name": "stdout",
     "output_type": "stream",
     "text": [
      "-1021.0 2317.0\n"
     ]
    },
    {
     "name": "stderr",
     "output_type": "stream",
     "text": [
      "/media/webis/Data Both/OneDrive - FEI/Projetos/GitHub/image-segmentation/segmentation_env/lib/python3.11/site-packages/sklearn/cluster/_kmeans.py:870: FutureWarning: The default value of `n_init` will change from 10 to 'auto' in 1.4. Set the value of `n_init` explicitly to suppress the warning\n",
      "  warnings.warn(\n"
     ]
    },
    {
     "name": "stdout",
     "output_type": "stream",
     "text": [
      "Done: FFA-d2-t1.8\n",
      "Dataset/original/CASE_10_5.npyDataset/original/CASE_10_4.npyDataset/original/CASE_10_1.npy\n",
      "\n",
      "Dataset/original/CASE_10_3.npy\n",
      "Dataset/original/CASE_10_10.npyDataset/original/CASE_10_7.npy\n",
      "Dataset/original/CASE_10_2.npyDataset/original/CASE_10_6.npy\n",
      "\n"
     ]
    },
    {
     "name": "stderr",
     "output_type": "stream",
     "text": [
      "/media/webis/Data Both/OneDrive - FEI/Projetos/GitHub/image-segmentation/wspTsallisEvaluation.ipynb:19: RuntimeWarning: invalid value encountered in divide\n",
      "  \"$$S_q(H) = \\\\frac{1 - \\\\sum_{i=1}^{L}(h_i)^q}{q-1}$$\\n\"\n",
      "/media/webis/Data Both/OneDrive - FEI/Projetos/GitHub/image-segmentation/wspTsallisEvaluation.ipynb:19: RuntimeWarning: invalid value encountered in divide\n",
      "  \"$$S_q(H) = \\\\frac{1 - \\\\sum_{i=1}^{L}(h_i)^q}{q-1}$$\\n\"\n"
     ]
    },
    {
     "name": "stdout",
     "output_type": "stream",
     "text": [
      "\n"
     ]
    },
    {
     "name": "stderr",
     "output_type": "stream",
     "text": [
      "/media/webis/Data Both/OneDrive - FEI/Projetos/GitHub/image-segmentation/wspTsallisEvaluation.ipynb:19: RuntimeWarning: invalid value encountered in divide\n",
      "  \"$$S_q(H) = \\\\frac{1 - \\\\sum_{i=1}^{L}(h_i)^q}{q-1}$$\\n\"\n"
     ]
    },
    {
     "name": "stdout",
     "output_type": "stream",
     "text": [
      "\n"
     ]
    },
    {
     "name": "stderr",
     "output_type": "stream",
     "text": [
      "/media/webis/Data Both/OneDrive - FEI/Projetos/GitHub/image-segmentation/wspTsallisEvaluation.ipynb:19: RuntimeWarning: invalid value encountered in divide\n",
      "  \"$$S_q(H) = \\\\frac{1 - \\\\sum_{i=1}^{L}(h_i)^q}{q-1}$$\\n\"\n",
      "/media/webis/Data Both/OneDrive - FEI/Projetos/GitHub/image-segmentation/wspTsallisEvaluation.ipynb:19: RuntimeWarning: invalid value encountered in divide\n",
      "  \"$$S_q(H) = \\\\frac{1 - \\\\sum_{i=1}^{L}(h_i)^q}{q-1}$$\\n\"\n",
      "/media/webis/Data Both/OneDrive - FEI/Projetos/GitHub/image-segmentation/wspTsallisEvaluation.ipynb:19: RuntimeWarning: invalid value encountered in divide\n",
      "  \"$$S_q(H) = \\\\frac{1 - \\\\sum_{i=1}^{L}(h_i)^q}{q-1}$$\\n\"\n",
      "/media/webis/Data Both/OneDrive - FEI/Projetos/GitHub/image-segmentation/wspTsallisEvaluation.ipynb:19: RuntimeWarning: invalid value encountered in divide\n",
      "  \"$$S_q(H) = \\\\frac{1 - \\\\sum_{i=1}^{L}(h_i)^q}{q-1}$$\\n\"\n",
      "/media/webis/Data Both/OneDrive - FEI/Projetos/GitHub/image-segmentation/wspTsallisEvaluation.ipynb:19: RuntimeWarning: invalid value encountered in divide\n",
      "  \"$$S_q(H) = \\\\frac{1 - \\\\sum_{i=1}^{L}(h_i)^q}{q-1}$$\\n\"\n"
     ]
    },
    {
     "ename": "KeyboardInterrupt",
     "evalue": "",
     "output_type": "error",
     "traceback": [
      "\u001b[0;31m---------------------------------------------------------------------------\u001b[0m",
      "\u001b[0;31mKeyboardInterrupt\u001b[0m                         Traceback (most recent call last)",
      "Cell \u001b[0;32mIn[97], line 1\u001b[0m\n\u001b[0;32m----> 1\u001b[0m run_all()\n",
      "Cell \u001b[0;32mIn[96], line 13\u001b[0m, in \u001b[0;36mrun_all\u001b[0;34m()\u001b[0m\n\u001b[1;32m     10\u001b[0m \u001b[39mif\u001b[39;00m \u001b[39mnot\u001b[39;00m os\u001b[39m.\u001b[39mpath\u001b[39m.\u001b[39mexists(output_dir_big):\n\u001b[1;32m     11\u001b[0m     os\u001b[39m.\u001b[39mmkdir(output_dir_big)\n\u001b[0;32m---> 13\u001b[0m \u001b[39mwith\u001b[39;00m concurrent\u001b[39m.\u001b[39mfutures\u001b[39m.\u001b[39mProcessPoolExecutor() \u001b[39mas\u001b[39;00m executor:\n\u001b[1;32m     14\u001b[0m     executor\u001b[39m.\u001b[39mmap(segment_slice, all_slices, repeat(gamma), repeat(bio), repeat(lim), repeat(output_dir_high), repeat(output_dir_big))\n\u001b[1;32m     15\u001b[0m \u001b[39m#for slices in all_slices:\u001b[39;00m\n\u001b[1;32m     16\u001b[0m \u001b[39m#    segment_slice(slices, gamma, bio, lim, output_dir_high, output_dir_big)\u001b[39;00m\n",
      "File \u001b[0;32m/media/webis/Data Both/OneDrive - FEI/Projetos/GitHub/image-segmentation/segmentation_env/lib/python3.11/concurrent/futures/_base.py:647\u001b[0m, in \u001b[0;36mExecutor.__exit__\u001b[0;34m(self, exc_type, exc_val, exc_tb)\u001b[0m\n\u001b[1;32m    646\u001b[0m \u001b[39mdef\u001b[39;00m \u001b[39m__exit__\u001b[39m(\u001b[39mself\u001b[39m, exc_type, exc_val, exc_tb):\n\u001b[0;32m--> 647\u001b[0m     \u001b[39mself\u001b[39m\u001b[39m.\u001b[39mshutdown(wait\u001b[39m=\u001b[39m\u001b[39mTrue\u001b[39;00m)\n\u001b[1;32m    648\u001b[0m     \u001b[39mreturn\u001b[39;00m \u001b[39mFalse\u001b[39;00m\n",
      "File \u001b[0;32m/media/webis/Data Both/OneDrive - FEI/Projetos/GitHub/image-segmentation/segmentation_env/lib/python3.11/concurrent/futures/process.py:830\u001b[0m, in \u001b[0;36mProcessPoolExecutor.shutdown\u001b[0;34m(self, wait, cancel_futures)\u001b[0m\n\u001b[1;32m    827\u001b[0m         \u001b[39mself\u001b[39m\u001b[39m.\u001b[39m_executor_manager_thread_wakeup\u001b[39m.\u001b[39mwakeup()\n\u001b[1;32m    829\u001b[0m \u001b[39mif\u001b[39;00m \u001b[39mself\u001b[39m\u001b[39m.\u001b[39m_executor_manager_thread \u001b[39mis\u001b[39;00m \u001b[39mnot\u001b[39;00m \u001b[39mNone\u001b[39;00m \u001b[39mand\u001b[39;00m wait:\n\u001b[0;32m--> 830\u001b[0m     \u001b[39mself\u001b[39m\u001b[39m.\u001b[39m_executor_manager_thread\u001b[39m.\u001b[39mjoin()\n\u001b[1;32m    831\u001b[0m \u001b[39m# To reduce the risk of opening too many files, remove references to\u001b[39;00m\n\u001b[1;32m    832\u001b[0m \u001b[39m# objects that use file descriptors.\u001b[39;00m\n\u001b[1;32m    833\u001b[0m \u001b[39mself\u001b[39m\u001b[39m.\u001b[39m_executor_manager_thread \u001b[39m=\u001b[39m \u001b[39mNone\u001b[39;00m\n",
      "File \u001b[0;32m/media/webis/Data Both/OneDrive - FEI/Projetos/GitHub/image-segmentation/segmentation_env/lib/python3.11/threading.py:1112\u001b[0m, in \u001b[0;36mThread.join\u001b[0;34m(self, timeout)\u001b[0m\n\u001b[1;32m   1109\u001b[0m     \u001b[39mraise\u001b[39;00m \u001b[39mRuntimeError\u001b[39;00m(\u001b[39m\"\u001b[39m\u001b[39mcannot join current thread\u001b[39m\u001b[39m\"\u001b[39m)\n\u001b[1;32m   1111\u001b[0m \u001b[39mif\u001b[39;00m timeout \u001b[39mis\u001b[39;00m \u001b[39mNone\u001b[39;00m:\n\u001b[0;32m-> 1112\u001b[0m     \u001b[39mself\u001b[39m\u001b[39m.\u001b[39m_wait_for_tstate_lock()\n\u001b[1;32m   1113\u001b[0m \u001b[39melse\u001b[39;00m:\n\u001b[1;32m   1114\u001b[0m     \u001b[39m# the behavior of a negative timeout isn't documented, but\u001b[39;00m\n\u001b[1;32m   1115\u001b[0m     \u001b[39m# historically .join(timeout=x) for x<0 has acted as if timeout=0\u001b[39;00m\n\u001b[1;32m   1116\u001b[0m     \u001b[39mself\u001b[39m\u001b[39m.\u001b[39m_wait_for_tstate_lock(timeout\u001b[39m=\u001b[39m\u001b[39mmax\u001b[39m(timeout, \u001b[39m0\u001b[39m))\n",
      "File \u001b[0;32m/media/webis/Data Both/OneDrive - FEI/Projetos/GitHub/image-segmentation/segmentation_env/lib/python3.11/threading.py:1132\u001b[0m, in \u001b[0;36mThread._wait_for_tstate_lock\u001b[0;34m(self, block, timeout)\u001b[0m\n\u001b[1;32m   1129\u001b[0m     \u001b[39mreturn\u001b[39;00m\n\u001b[1;32m   1131\u001b[0m \u001b[39mtry\u001b[39;00m:\n\u001b[0;32m-> 1132\u001b[0m     \u001b[39mif\u001b[39;00m lock\u001b[39m.\u001b[39macquire(block, timeout):\n\u001b[1;32m   1133\u001b[0m         lock\u001b[39m.\u001b[39mrelease()\n\u001b[1;32m   1134\u001b[0m         \u001b[39mself\u001b[39m\u001b[39m.\u001b[39m_stop()\n",
      "\u001b[0;31mKeyboardInterrupt\u001b[0m: "
     ]
    },
    {
     "name": "stdout",
     "output_type": "stream",
     "text": [
      "-1021.0 2396.0\n"
     ]
    },
    {
     "name": "stderr",
     "output_type": "stream",
     "text": [
      "/media/webis/Data Both/OneDrive - FEI/Projetos/GitHub/image-segmentation/segmentation_env/lib/python3.11/site-packages/sklearn/cluster/_kmeans.py:870: FutureWarning: The default value of `n_init` will change from 10 to 'auto' in 1.4. Set the value of `n_init` explicitly to suppress the warning\n",
      "  warnings.warn(\n"
     ]
    }
   ],
   "source": [
    "run_all()"
   ]
  }
 ],
 "metadata": {
  "kernelspec": {
   "display_name": "Python 3",
   "language": "python",
   "name": "python3"
  },
  "language_info": {
   "codemirror_mode": {
    "name": "ipython",
    "version": 3
   },
   "file_extension": ".py",
   "mimetype": "text/x-python",
   "name": "python",
   "nbconvert_exporter": "python",
   "pygments_lexer": "ipython3",
   "version": "3.11.3"
  },
  "orig_nbformat": 4
 },
 "nbformat": 4,
 "nbformat_minor": 2
}
