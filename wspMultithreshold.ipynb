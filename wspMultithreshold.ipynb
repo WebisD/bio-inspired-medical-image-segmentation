{
 "cells": [
  {
   "cell_type": "code",
   "execution_count": 2,
   "metadata": {},
   "outputs": [],
   "source": [
    "import numpy as np\n",
    "import skimage\n",
    "from skimage import data, util, measure\n",
    "import pandas as pd\n",
    "from sklearn import preprocessing\n",
    "from sklearn.cluster import KMeans\n",
    "import matplotlib.pyplot as plt\n",
    "import cv2"
   ]
  },
  {
   "cell_type": "code",
   "execution_count": 3,
   "metadata": {},
   "outputs": [],
   "source": [
    "from ipynb.fs.full.wspFFA import wspFirefly\n",
    "from ipynb.fs.full.wspCS import wspCuckooSearch\n",
    "from ipynb.fs.full.wspKH import wspKrillHerd\n",
    "from ipynb.fs.full.wspEHO import wspElephantHerding\n",
    "from ipynb.fs.full.wspABC import wspArtificialBeeColony"
   ]
  },
  {
   "cell_type": "code",
   "execution_count": 4,
   "metadata": {},
   "outputs": [],
   "source": [
    "from ipynb.fs.full.wspShannonEvaluation import wspShannonEvaluation\n",
    "from ipynb.fs.full.wspTsallisEvaluation import wspTsallisEvaluation"
   ]
  },
  {
   "cell_type": "code",
   "execution_count": 5,
   "metadata": {},
   "outputs": [],
   "source": [
    "def wspGrayHistogram(hu_img):\n",
    "    lower_bound = int(hu_img.min())\n",
    "    upper_bound = int(hu_img.max())+1\n",
    "\n",
    "    #hist, _ = np.histogram(hu_img,256,[0,255])\n",
    "    hist, bin_edges = np.histogram(hu_img, abs(lower_bound)+upper_bound, [lower_bound, upper_bound])\n",
    "    bin_edges = bin_edges[:-1]\n",
    "\n",
    "    hist = hist/np.sum(hist)\n",
    "\n",
    "    return hist, bin_edges, lower_bound, upper_bound"
   ]
  },
  {
   "cell_type": "code",
   "execution_count": 6,
   "metadata": {},
   "outputs": [],
   "source": [
    "def apply_threshold(img, thresh, lb, ub):\n",
    "    row, col =  img.shape\n",
    "    \n",
    "    colors = [*range(lb,ub, round(ub/len(thresh)))]\n",
    "    colors.append(ub)\n",
    "    #print(colors, thresh)\n",
    "\n",
    "    img_thres = np.zeros((row,col))\n",
    "\n",
    "    for i in range(0, row):\n",
    "        for j in range(0, col):\n",
    "            pixel = img[i,j]\n",
    "            color = -1\n",
    "\n",
    "            for k in range(0, len(thresh)): \n",
    "                if pixel < thresh[k]:\n",
    "                    color = colors[k]\n",
    "                    break\n",
    "                 \n",
    "            if color == -1:\n",
    "                color = colors[len(colors)-1]\n",
    "\n",
    "            img_thres[i,j] = color\n",
    "\n",
    "    return img_thres"
   ]
  },
  {
   "cell_type": "code",
   "execution_count": 7,
   "metadata": {},
   "outputs": [],
   "source": [
    "def get_high_intensity_pixels(dicom_img):\n",
    "    max_value = dicom_img.max()\n",
    "    min_value = dicom_img.min()\n",
    "    print(min_value, max_value)\n",
    "    dicom_img = np.where(dicom_img==max_value, max_value, min_value)\n",
    "\n",
    "    return dicom_img"
   ]
  },
  {
   "cell_type": "code",
   "execution_count": 8,
   "metadata": {},
   "outputs": [],
   "source": [
    "def region_stdev(region, intensities):\n",
    "    return np.std(intensities[region])"
   ]
  },
  {
   "cell_type": "code",
   "execution_count": 9,
   "metadata": {},
   "outputs": [],
   "source": [
    "def get_included_regions(pixel_array, original_image):\n",
    "    label_image = measure.label(pixel_array, background=pixel_array.min())\n",
    "    props = measure.regionprops_table(label_image, original_image, properties=['area', 'intensity_mean'], extra_properties=[region_stdev])\n",
    "    \n",
    "    table = pd.DataFrame(props)\n",
    "\n",
    "    X_train = table.values.tolist()\n",
    "\n",
    "    scaler = preprocessing.StandardScaler().fit(X_train)\n",
    "    X_scaled = scaler.transform(X_train)\n",
    "\n",
    "    kmeans = KMeans(n_clusters=2, random_state=0).fit(X_scaled)\n",
    "    clusters = kmeans.labels_\n",
    "    \n",
    "    return clusters[table['area'].idxmax()], clusters"
   ]
  },
  {
   "cell_type": "code",
   "execution_count": 10,
   "metadata": {},
   "outputs": [],
   "source": [
    "def get_largests_regions(pixel_array, original_image):\n",
    "    max_value = pixel_array.max()\n",
    "    min_value = pixel_array.min()\n",
    "    \n",
    "    labels_mask = measure.label(pixel_array, background=pixel_array.min())\n",
    "\n",
    "    regions = measure.regionprops(labels_mask)\n",
    "\n",
    "    if len(regions) > 1:\n",
    "        big_reg_cluster, clusters = get_included_regions(pixel_array, original_image)\n",
    "        for index in range(len(regions)):\n",
    "            if clusters[index] != big_reg_cluster:\n",
    "                labels_mask[regions[index].coords[:,0], regions[index].coords[:,1]] = min_value\n",
    "\n",
    "    labels_mask[labels_mask == 0] = min_value\n",
    "    labels_mask[labels_mask != min_value] = max_value\n",
    "    mask = labels_mask\n",
    "\n",
    "    return mask.astype(np.int16)"
   ]
  },
  {
   "cell_type": "code",
   "execution_count": 11,
   "metadata": {},
   "outputs": [],
   "source": [
    "def run_firefly(hist, lb, ub, dimension, entropy, q):\n",
    "    n = 50\n",
    "    d = dimension\n",
    "    gama = 1\n",
    "    alpha = .97\n",
    "    beta = 1\n",
    "    maxGeneration = 100\n",
    "\n",
    "    best_thresholds = wspFirefly(n,d,gama,alpha,beta,maxGeneration, hist, lb, ub, entropy, q)\n",
    "\n",
    "    return best_thresholds"
   ]
  },
  {
   "cell_type": "code",
   "execution_count": 12,
   "metadata": {},
   "outputs": [],
   "source": [
    "def run_cuckoo_search(hist, lb, ub, dimension, entropy, q):\n",
    "    n = 40\n",
    "    d = dimension\n",
    "    pa = 0.5\n",
    "    maxGeneration = 100\n",
    "\n",
    "    best_thresholds = wspCuckooSearch(n,d,pa, maxGeneration, hist, lb, ub, entropy, q)\n",
    "\n",
    "    return best_thresholds"
   ]
  },
  {
   "cell_type": "code",
   "execution_count": 13,
   "metadata": {},
   "outputs": [],
   "source": [
    "def run_krill_herd(hist, lb, ub, dimension, entropy, q):\n",
    "    n = 40\n",
    "    d = dimension\n",
    "    maxGeneration = 100\n",
    "\n",
    "    best_thresholds = wspKrillHerd(n, d, maxGeneration, hist, lb, ub, entropy, q)\n",
    "\n",
    "    return best_thresholds "
   ]
  },
  {
   "cell_type": "code",
   "execution_count": 14,
   "metadata": {},
   "outputs": [],
   "source": [
    "def run_elephant_herding(hist, lb, ub, dimension, entropy, q):\n",
    "    n = 200\n",
    "    nkE = 2\n",
    "    nClan = 5\n",
    "    alpha = 0.5\n",
    "    beta = 0.1\n",
    "    d = dimension\n",
    "    maxGeneration = 100\n",
    "\n",
    "    best_thresholds = wspElephantHerding(n, d, nkE, nClan, alpha, beta, maxGeneration, hist, lb, ub, entropy, q)\n",
    "\n",
    "    return best_thresholds"
   ]
  },
  {
   "cell_type": "code",
   "execution_count": 15,
   "metadata": {},
   "outputs": [],
   "source": [
    "def run_artificial_bee_colony(hist, lb, ub, dimension, entropy, q):\n",
    "    n = 40\n",
    "    d = dimension\n",
    "    maxGeneration = 100\n",
    "    \n",
    "    best_thresholds = wspArtificialBeeColony(n, d, maxGeneration, hist, lb, ub, entropy, q)\n",
    "    \n",
    "    return best_thresholds"
   ]
  },
  {
   "cell_type": "code",
   "execution_count": 16,
   "metadata": {},
   "outputs": [],
   "source": [
    "def switch(alg):\n",
    "    if alg == 'FFA': return run_firefly\n",
    "    elif alg == 'CS': return run_cuckoo_search\n",
    "    elif alg == 'KH': return run_krill_herd\n",
    "    elif alg == 'EHO': return run_elephant_herding\n",
    "    elif alg == 'ABC': return run_artificial_bee_colony"
   ]
  },
  {
   "cell_type": "code",
   "execution_count": 17,
   "metadata": {},
   "outputs": [],
   "source": [
    "def wspMultithreshold(hu_img, algorithm, dimension, q):\n",
    "    hist, bin_edges, lb, ub = wspGrayHistogram(hu_img)\n",
    "\n",
    "    if q == 1:\n",
    "        entropy = wspShannonEvaluation\n",
    "    else:\n",
    "        entropy = wspTsallisEvaluation\n",
    "    \n",
    "    chosen_algorithm = switch(algorithm) \n",
    "    best_thresholds = chosen_algorithm(hist, lb, ub+1, dimension, entropy, q)\n",
    "\n",
    "    img_thres = apply_threshold(hu_img, best_thresholds, lb, ub)\n",
    "\n",
    "    return hist, bin_edges, best_thresholds, img_thres"
   ]
  }
 ],
 "metadata": {
  "kernelspec": {
   "display_name": "Python 3.10.4 ('tcc_env')",
   "language": "python",
   "name": "python3"
  },
  "language_info": {
   "codemirror_mode": {
    "name": "ipython",
    "version": 3
   },
   "file_extension": ".py",
   "mimetype": "text/x-python",
   "name": "python",
   "nbconvert_exporter": "python",
   "pygments_lexer": "ipython3",
   "version": "3.10.4"
  },
  "orig_nbformat": 4,
  "vscode": {
   "interpreter": {
    "hash": "50c3a715107fe4dcdc7dcc1225e41dc08fefd31cb688eb0c1f730ec66093fb86"
   }
  }
 },
 "nbformat": 4,
 "nbformat_minor": 2
}
