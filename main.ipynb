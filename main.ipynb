{
 "cells": [
  {
   "cell_type": "code",
   "execution_count": 3,
   "metadata": {},
   "outputs": [],
   "source": [
    "import cv2\n",
    "import matplotlib.pyplot as plt\n",
    "import importlib\n",
    "import os\n",
    "from ipywidgets import interact\n",
    "from ipywidgets import interact_manual\n",
    "from IPython.display import display\n",
    "from ipywidgets import widgets"
   ]
  },
  {
   "cell_type": "code",
   "execution_count": 4,
   "metadata": {},
   "outputs": [
    {
     "ename": "ModuleNotFoundError",
     "evalue": "No module named 'ipynb.fs.full.Bios'",
     "output_type": "error",
     "traceback": [
      "\u001b[0;31m---------------------------------------------------------------------------\u001b[0m",
      "\u001b[0;31mModuleNotFoundError\u001b[0m                       Traceback (most recent call last)",
      "Cell \u001b[0;32mIn[4], line 1\u001b[0m\n\u001b[0;32m----> 1\u001b[0m \u001b[39mimport\u001b[39;00m \u001b[39mipynb\u001b[39;00m\u001b[39m.\u001b[39;00m\u001b[39mfs\u001b[39;00m\u001b[39m.\u001b[39;00m\u001b[39mfull\u001b[39;00m\u001b[39m.\u001b[39;00m\u001b[39mBios\u001b[39;00m\u001b[39m.\u001b[39;00m\u001b[39mwspFFA\u001b[39;00m \u001b[39mas\u001b[39;00m \u001b[39mwspFirefly\u001b[39;00m\n\u001b[1;32m      2\u001b[0m \u001b[39mimport\u001b[39;00m \u001b[39mipynb\u001b[39;00m\u001b[39m.\u001b[39;00m\u001b[39mfs\u001b[39;00m\u001b[39m.\u001b[39;00m\u001b[39mfull\u001b[39;00m\u001b[39m.\u001b[39;00m\u001b[39mwspCS\u001b[39;00m \u001b[39mas\u001b[39;00m \u001b[39mwspCuckooSearch\u001b[39;00m\n\u001b[1;32m      3\u001b[0m \u001b[39mimport\u001b[39;00m \u001b[39mipynb\u001b[39;00m\u001b[39m.\u001b[39;00m\u001b[39mfs\u001b[39;00m\u001b[39m.\u001b[39;00m\u001b[39mfull\u001b[39;00m\u001b[39m.\u001b[39;00m\u001b[39mwspKH\u001b[39;00m \u001b[39mas\u001b[39;00m \u001b[39mwspKrillHerd\u001b[39;00m\n",
      "\u001b[0;31mModuleNotFoundError\u001b[0m: No module named 'ipynb.fs.full.Bios'"
     ]
    }
   ],
   "source": [
    "import ipynb.fs.full.Bios.wspFFA as wspFirefly\n",
    "import ipynb.fs.full.wspCS as wspCuckooSearch\n",
    "import ipynb.fs.full.wspKH as wspKrillHerd\n",
    "import ipynb.fs.full.wspEHO as wspElephantHerding\n",
    "import ipynb.fs.full.wspABC as wspArtificialBeeColony\n",
    "\n",
    "import ipynb.fs.full.plotGraph as plotGraph\n",
    "import ipynb.fs.full.wspMultithreshold as wspMultithreshold\n",
    "import ipynb.fs.full.dicomHandler as dicomHandler\n",
    "import ipynb.fs.full.npyHandler as npyHandler\n",
    "\n",
    "import ipynb.fs.full.wspTsallisEvaluation as wspTsallisEvaluation\n",
    "import ipynb.fs.full.wspShannonEvaluation as wspShannonEvaluation\n",
    "\n",
    "import ipynb.fs.full.automaticQCalculation as automaticQCalculation\n",
    "\n",
    "importlib.reload(wspFirefly)\n",
    "importlib.reload(wspCuckooSearch)\n",
    "importlib.reload(wspKrillHerd)\n",
    "importlib.reload(wspElephantHerding)\n",
    "importlib.reload(wspArtificialBeeColony)\n",
    "\n",
    "importlib.reload(plotGraph)\n",
    "importlib.reload(wspMultithreshold)\n",
    "importlib.reload(dicomHandler)\n",
    "importlib.reload(wspTsallisEvaluation)\n",
    "\n",
    "importlib.reload(automaticQCalculation)"
   ]
  },
  {
   "cell_type": "code",
   "execution_count": null,
   "metadata": {},
   "outputs": [],
   "source": [
    "def readImage(img_path):\n",
    "    image = cv2.imread(img_path)\n",
    "    img = cv2.cvtColor(image, cv2.COLOR_BGR2GRAY)\n",
    "\n",
    "    return img"
   ]
  },
  {
   "cell_type": "code",
   "execution_count": null,
   "metadata": {},
   "outputs": [],
   "source": [
    "bio_algorithms = ['FFA','KH', 'CS', 'ABC', 'EHO']"
   ]
  },
  {
   "cell_type": "code",
   "execution_count": null,
   "metadata": {},
   "outputs": [],
   "source": [
    "folder_dir = \"Dataset/original\"\n",
    "folder_gt_dir = \"Dataset/segmented\"\n",
    "all_images = ['CASE_20_1.npy', 'CASE_24_10.npy']\n",
    "\n",
    "for file in os.listdir(folder_dir):\n",
    "    all_images.append(file)"
   ]
  },
  {
   "cell_type": "code",
   "execution_count": null,
   "metadata": {},
   "outputs": [],
   "source": [
    "def main_dicom(image, algorithm, dimension, q):\n",
    "    dicom_image, pixel_array = dicomHandler.read_dicom_image(image)\n",
    "    print(\"Original:\", pixel_array.min(), pixel_array.max())\n",
    "    transformed_pixel_array = dicomHandler.image_transformation(pixel_array)\n",
    "    print(\"Transformação:\", transformed_pixel_array.min(), transformed_pixel_array.max())\n",
    "    \n",
    "    plotGraph.plot_2_images(pixel_array, transformed_pixel_array)\n",
    "\n",
    "    original_image = pixel_array.copy()\n",
    "\n",
    "    hu_image = dicomHandler.transform_to_hu(dicom_image, transformed_pixel_array)\n",
    "\n",
    "    hist, bin_edges, best_thresholds, img_thres = wspMultithreshold.wspMultithreshold(hu_image, algorithm, dimension, q)\n",
    "\n",
    "    high_intensity = wspMultithreshold.get_high_intensity_pixels(img_thres)\n",
    "    \n",
    "    pixel_array = dicomHandler.transform_to_pixel_array(dicom_image, high_intensity)\n",
    "\n",
    "    hard_tissue = wspMultithreshold.get_largests_regions(pixel_array, original_image)\n",
    "\n",
    "    #dicomHandler.save_dicom(dicom_image, pixel_array,\"images/temp.dcm\")\n",
    "    \n",
    "    plotGraph.plot_image_histogram(hu_image, hist, bin_edges)\n",
    "    plotGraph.plot_image_histogram_threshold(img_thres, hist, bin_edges, best_thresholds)\n",
    "    dicomHandler.show_dicom_image(high_intensity)\n",
    "    dicomHandler.show_dicom_image(hard_tissue)"
   ]
  },
  {
   "cell_type": "code",
   "execution_count": null,
   "metadata": {},
   "outputs": [],
   "source": [
    "def main_npy(image, gamma, bio, limiar):\n",
    "    npy_img = folder_dir + '/' + image\n",
    "\n",
    "    q = automaticQCalculation.get_best_q(npy_img)\n",
    "\n",
    "    automaticQCalculation.plot_q_curve()\n",
    "\n",
    "    pixel_array = npyHandler.read_npy_image(npy_img)\n",
    "\n",
    "    original_image = pixel_array.copy()\n",
    "\n",
    "    transformed_pixel_array = npyHandler.image_transformation(pixel_array, gamma)\n",
    "\n",
    "    #Show results\n",
    "    plotGraph.plot_n_images([original_image, transformed_pixel_array] , [\"Original\", \"Transformação Gama\"])\n",
    "\n",
    "    hist, bin_edges, best_thresholds, img_thres = wspMultithreshold.wspMultithreshold(transformed_pixel_array, bio, limiar, q)\n",
    "\n",
    "    # Show results\n",
    "    plotGraph.plot_image_histogram_threshold(img_thres, hist, bin_edges, best_thresholds)\n",
    "\n",
    "    high_intensity = wspMultithreshold.get_high_intensity_pixels(img_thres)\n",
    "\n",
    "    pixel_array = npyHandler.transform_to_npy_pixel_array(high_intensity)\n",
    "\n",
    "    hard_tissue = wspMultithreshold.get_largests_regions(pixel_array, original_image)\n",
    "\n",
    "    gt_image = npyHandler.read_npy_image(folder_gt_dir + '/' + image)\n",
    "    plotGraph.plot_n_images([high_intensity, hard_tissue, gt_image] , [\"Maior intensidade\", \"Maior região\", \"Padrão Ouro\"])\n"
   ]
  },
  {
   "cell_type": "code",
   "execution_count": null,
   "metadata": {},
   "outputs": [],
   "source": [
    "def main_normal_image(image, gamma, bio, limiar, q):\n",
    "    img = readImage(f\"{image}\")\n",
    "    \n",
    "    hist, bin_edges, best_thresholds, img_thres = wspMultithreshold.wspMultithreshold(img, bio, limiar, q)\n",
    "\n",
    "    plotGraph.plot_image_histogram_threshold(img_thres, hist, bin_edges, best_thresholds)"
   ]
  },
  {
   "cell_type": "code",
   "execution_count": null,
   "metadata": {},
   "outputs": [
    {
     "data": {
      "application/vnd.jupyter.widget-view+json": {
       "model_id": "0949a677c7c948b9bc38f291b0543704",
       "version_major": 2,
       "version_minor": 0
      },
      "text/plain": [
       "interactive(children=(Dropdown(description='image', options=('CASE_20_1.npy', 'CASE_24_10.npy', 'CASE_10_1.npy…"
      ]
     },
     "metadata": {},
     "output_type": "display_data"
    },
    {
     "data": {
      "text/plain": [
       "<function __main__.main_npy(image, gamma, bio, limiar)>"
      ]
     },
     "execution_count": 81,
     "metadata": {},
     "output_type": "execute_result"
    }
   ],
   "source": [
    "interact_manual(main_npy,\n",
    "    image=all_images,\n",
    "    gamma=widgets.FloatSlider(min=1, max=2, step=0.1, value=1.3),\n",
    "    bio=bio_algorithms,\n",
    "    limiar=widgets.IntSlider(min=1, max=5, step=1, value=2))"
   ]
  }
 ],
 "metadata": {
  "kernelspec": {
   "display_name": "Python 3.10.4 ('tcc_env')",
   "language": "python",
   "name": "python3"
  },
  "language_info": {
   "codemirror_mode": {
    "name": "ipython",
    "version": 3
   },
   "file_extension": ".py",
   "mimetype": "text/x-python",
   "name": "python",
   "nbconvert_exporter": "python",
   "pygments_lexer": "ipython3",
   "version": "3.11.3"
  },
  "orig_nbformat": 4,
  "vscode": {
   "interpreter": {
    "hash": "50c3a715107fe4dcdc7dcc1225e41dc08fefd31cb688eb0c1f730ec66093fb86"
   }
  }
 },
 "nbformat": 4,
 "nbformat_minor": 2
}
