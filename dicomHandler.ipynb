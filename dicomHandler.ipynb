{
 "cells": [
  {
   "cell_type": "code",
   "execution_count": 33,
   "metadata": {},
   "outputs": [],
   "source": [
    "import matplotlib.pyplot as plt\n",
    "from pydicom import dcmread\n",
    "import os\n",
    "import numpy as np\n",
    "from pydicom.pixel_data_handlers.util import apply_modality_lut"
   ]
  },
  {
   "cell_type": "code",
   "execution_count": null,
   "metadata": {},
   "outputs": [],
   "source": [
    "def image_transformation(pixel_array, gama):\n",
    "    lower_bound = int(pixel_array.min())\n",
    "    upper_bound = int(pixel_array.max())\n",
    "    c = 1\n",
    "    #b = 1.5\n",
    "    \n",
    "    transformed = np.sign(pixel_array) * (np.abs(pixel_array)) ** (gama)\n",
    "    normalized = np.interp(transformed, (transformed.min(), transformed.max()), (lower_bound, upper_bound))\n",
    "    \n",
    "    return normalized.astype(np.int16)"
   ]
  },
  {
   "cell_type": "code",
   "execution_count": 34,
   "metadata": {},
   "outputs": [],
   "source": [
    "def transform_to_hu(medical_image, image):\n",
    "    intercept = medical_image.RescaleIntercept\n",
    "    slope = medical_image.RescaleSlope\n",
    "    hu_image = image * slope + intercept\n",
    "\n",
    "    return hu_image"
   ]
  },
  {
   "cell_type": "code",
   "execution_count": 35,
   "metadata": {},
   "outputs": [],
   "source": [
    "def transform_to_pixel_array(medical_image, hu_image):\n",
    "    intercept = medical_image.RescaleIntercept\n",
    "    slope = medical_image.RescaleSlope\n",
    "    image = (hu_image - intercept)/slope\n",
    "    \n",
    "    return image.astype(np.int16)"
   ]
  },
  {
   "cell_type": "code",
   "execution_count": 36,
   "metadata": {},
   "outputs": [],
   "source": [
    "def show_dicom_image(med_img, title=\"\"):\n",
    "    plt.figure(figsize=(15, 7))\n",
    "    plt.imshow(med_img, cmap='gray')\n",
    "    plt.title(title)\n",
    "    plt.axis('off')"
   ]
  },
  {
   "cell_type": "code",
   "execution_count": 37,
   "metadata": {},
   "outputs": [],
   "source": [
    "def read_dicom_image(file_path):\n",
    "    medical_image = dcmread(file_path)\n",
    "    pixel_array = medical_image.pixel_array\n",
    "    return medical_image, pixel_array"
   ]
  },
  {
   "cell_type": "code",
   "execution_count": 38,
   "metadata": {},
   "outputs": [],
   "source": [
    "def save_dicom(dicom, new_image, file_path):\n",
    "    dicom.PixelData = new_image.tobytes()\n",
    "    dicom.save_as(file_path)"
   ]
  }
 ],
 "metadata": {
  "kernelspec": {
   "display_name": "Python 3.10.4 ('tcc_env')",
   "language": "python",
   "name": "python3"
  },
  "language_info": {
   "codemirror_mode": {
    "name": "ipython",
    "version": 3
   },
   "file_extension": ".py",
   "mimetype": "text/x-python",
   "name": "python",
   "nbconvert_exporter": "python",
   "pygments_lexer": "ipython3",
   "version": "3.10.4"
  },
  "orig_nbformat": 4,
  "vscode": {
   "interpreter": {
    "hash": "50c3a715107fe4dcdc7dcc1225e41dc08fefd31cb688eb0c1f730ec66093fb86"
   }
  }
 },
 "nbformat": 4,
 "nbformat_minor": 2
}
