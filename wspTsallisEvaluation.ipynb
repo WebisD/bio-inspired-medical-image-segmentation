{
 "cells": [
  {
   "cell_type": "code",
   "execution_count": 1,
   "metadata": {},
   "outputs": [],
   "source": [
    "import numpy as np"
   ]
  },
  {
   "attachments": {},
   "cell_type": "markdown",
   "metadata": {},
   "source": [
    "### Tsallis' Entropy\n",
    "\n",
    "$$S_q(H) = \\frac{1 - \\sum_{i=1}^{L}(h_i)^q}{q-1}$$\n"
   ]
  },
  {
   "cell_type": "code",
   "execution_count": 2,
   "metadata": {},
   "outputs": [],
   "source": [
    "def TsallisEntropy(histograma, q, a, b):\n",
    "    a, b = round(a), round(b)\n",
    "\n",
    "    if b > a:\n",
    "        H = histograma[a:b]\n",
    "        H = H / np.sum(H)\n",
    "        \n",
    "        ret = np.sum(H**q)\n",
    "        \n",
    "        S = (1 - ret) / (q - 1)\n",
    "    else:\n",
    "        S = 0\n",
    "    \n",
    "    return S"
   ]
  },
  {
   "cell_type": "code",
   "execution_count": 1,
   "metadata": {},
   "outputs": [],
   "source": [
    "def wspTsallisEvaluation(histograma, thresholds, lb, ub, q):\n",
    "    n = len(thresholds) + 2\n",
    "    \n",
    "    thresholds = np.concatenate([[lb], thresholds, [ub]])\n",
    "    thresholds += abs(lb)\n",
    "\n",
    "    a = thresholds[0]\n",
    "    b = thresholds[1]\n",
    "    \n",
    "    light = TsallisEntropy(histograma, q, a, b)\n",
    "    if np.isnan(light):\n",
    "        light = 0\n",
    "    Plight = light\n",
    "    for i in range(1, n-1):\n",
    "        a = thresholds[i] + 1\n",
    "        b = thresholds[i+1]\n",
    "        ES = TsallisEntropy(histograma, q, a, b)\n",
    "        if not np.isnan(ES):\n",
    "            light = light + ES\n",
    "            Plight = Plight * ES\n",
    "    light = light + (q-1) * Plight\n",
    "    return light"
   ]
  }
 ],
 "metadata": {
  "kernelspec": {
   "display_name": "Python 3.10.4 ('tcc_env')",
   "language": "python",
   "name": "python3"
  },
  "language_info": {
   "codemirror_mode": {
    "name": "ipython",
    "version": 3
   },
   "file_extension": ".py",
   "mimetype": "text/x-python",
   "name": "python",
   "nbconvert_exporter": "python",
   "pygments_lexer": "ipython3",
   "version": "3.11.3"
  },
  "orig_nbformat": 4,
  "vscode": {
   "interpreter": {
    "hash": "50c3a715107fe4dcdc7dcc1225e41dc08fefd31cb688eb0c1f730ec66093fb86"
   }
  }
 },
 "nbformat": 4,
 "nbformat_minor": 2
}
