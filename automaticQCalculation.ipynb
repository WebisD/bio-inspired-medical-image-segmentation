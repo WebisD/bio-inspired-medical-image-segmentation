{
 "cells": [
  {
   "cell_type": "code",
   "execution_count": 88,
   "metadata": {},
   "outputs": [],
   "source": [
    "import numpy as np\n",
    "import pandas as pd\n",
    "import os\n",
    "import importlib"
   ]
  },
  {
   "cell_type": "code",
   "execution_count": 89,
   "metadata": {},
   "outputs": [
    {
     "data": {
      "text/plain": [
       "<module 'ipynb.fs.full.wspTsallisEvaluation' (/media/webis/Data Both/OneDrive - FEI/Projetos/GitHub/image-segmentation/wspTsallisEvaluation.ipynb)>"
      ]
     },
     "execution_count": 89,
     "metadata": {},
     "output_type": "execute_result"
    }
   ],
   "source": [
    "import ipynb.fs.full.wspMultithreshold as wspMultithreshold\n",
    "import ipynb.fs.full.npyHandler as npyHandler\n",
    "import ipynb.fs.full.wspTsallisEvaluation as wspTsallisEvaluation\n",
    "\n",
    "importlib.reload(wspMultithreshold)\n",
    "importlib.reload(npyHandler)\n",
    "importlib.reload(wspTsallisEvaluation)"
   ]
  },
  {
   "attachments": {},
   "cell_type": "markdown",
   "metadata": {},
   "source": [
    "### Automatic q Calculation\n",
    "\n",
    "$$S_{MAX} = \\frac{1}{q-1} [1 - n(p^q(x))]$$"
   ]
  },
  {
   "cell_type": "code",
   "execution_count": 90,
   "metadata": {},
   "outputs": [],
   "source": [
    "q_value = np.linspace(0.01, 1.99, num=199)\n",
    "#q_value = np.linspace(0.001, 1.999, num=1999)\n",
    "#q_value = np.linspace(0.0001, 1.9999, num=19999)\n",
    "\n",
    "q_value[q_value == 1.00] = 1.00000000000001"
   ]
  },
  {
   "cell_type": "code",
   "execution_count": 95,
   "metadata": {},
   "outputs": [],
   "source": [
    "Sq_Smax_value = []"
   ]
  },
  {
   "cell_type": "code",
   "execution_count": 96,
   "metadata": {},
   "outputs": [],
   "source": [
    "def get_best_q(image_path):\n",
    "    global Sq_Smax_value\n",
    "    pixel_array = npyHandler.read_npy_image(image_path)\n",
    "    hist, _, _, _ = wspMultithreshold.wspGrayHistogram(pixel_array)\n",
    "\n",
    "    lb, ub = pixel_array.min(), pixel_array.max()\n",
    "\n",
    "    N = ub - lb + 1\n",
    "    p_x = 1/N\n",
    "\n",
    "    Sq_Smax_value = []\n",
    "\n",
    "    for q in q_value:\n",
    "        Sq = wspTsallisEvaluation.TsallisEntropy(hist, q, 0, N)\n",
    "        \n",
    "        Smax = 1/(q-1) * (1-(N*((p_x)**q)))\n",
    "        \n",
    "        Sq_Smax = Sq / Smax\n",
    "        Sq_Smax_value.append(Sq_Smax)\n",
    "\n",
    "\n",
    "    sorted_indices = np.argsort(Sq_Smax_value)\n",
    "    second_lowest_index = sorted_indices[0]\n",
    "\n",
    "    return q_value[second_lowest_index]\n",
    "        \n"
   ]
  },
  {
   "cell_type": "code",
   "execution_count": 94,
   "metadata": {},
   "outputs": [],
   "source": [
    "def plot_q_curve():\n",
    "\n",
    "    import matplotlib.pyplot as plt\n",
    "\n",
    "    x = q_value\n",
    "    y = Sq_Smax_value\n",
    "\n",
    "    #lowest_index = np.argmin(y)\n",
    "\n",
    "    sorted_indices = np.argsort(y)\n",
    "    second_lowest_index = sorted_indices[0]\n",
    "\n",
    "    # Plotting the line graph\n",
    "    plt.plot(x, y)\n",
    "\n",
    "    #plt.scatter(x[lowest_index], y[lowest_index], color='red', label='Lowest Point')\n",
    "    annotation_text = f'(q = {x[second_lowest_index]: .2f})'\n",
    "    plt.annotate(annotation_text, xy=(x[second_lowest_index], y[second_lowest_index]), xytext=(x[second_lowest_index], y[second_lowest_index]+0.2), arrowprops=dict(arrowstyle='->'))\n",
    "\n",
    "    # Adding labels and title\n",
    "    plt.xlabel('q')\n",
    "    plt.ylabel('Sq / Smax')\n",
    "\n",
    "    # Display the plot\n",
    "    plt.savefig(\"Automatic q value.jpg\", bbox_inches='tight')\n",
    "    plt.show()"
   ]
  }
 ],
 "metadata": {
  "kernelspec": {
   "display_name": "Python 3",
   "language": "python",
   "name": "python3"
  },
  "language_info": {
   "codemirror_mode": {
    "name": "ipython",
    "version": 3
   },
   "file_extension": ".py",
   "mimetype": "text/x-python",
   "name": "python",
   "nbconvert_exporter": "python",
   "pygments_lexer": "ipython3",
   "version": "3.11.3"
  },
  "orig_nbformat": 4
 },
 "nbformat": 4,
 "nbformat_minor": 2
}
