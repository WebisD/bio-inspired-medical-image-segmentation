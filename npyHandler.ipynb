{
 "cells": [
  {
   "cell_type": "code",
   "execution_count": 1,
   "metadata": {},
   "outputs": [],
   "source": [
    "import matplotlib.pyplot as plt\n",
    "from pydicom import dcmread\n",
    "import os\n",
    "import numpy as np\n",
    "from pydicom.pixel_data_handlers.util import apply_modality_lut"
   ]
  },
  {
   "cell_type": "code",
   "execution_count": 2,
   "metadata": {},
   "outputs": [],
   "source": [
    "def image_transformation(pixel_array, gama):\n",
    "    lower_bound = int(pixel_array.min())\n",
    "    upper_bound = int(pixel_array.max())\n",
    "    c = 1\n",
    "    #b = 1.5\n",
    "    \n",
    "    transformed = np.sign(pixel_array) * (np.abs(pixel_array)) ** (gama)\n",
    "    normalized = np.interp(transformed, (transformed.min(), transformed.max()), (lower_bound, upper_bound))\n",
    "    \n",
    "    return normalized.astype(np.int16)"
   ]
  },
  {
   "cell_type": "code",
   "execution_count": 3,
   "metadata": {},
   "outputs": [],
   "source": [
    "# https://www.documents.philips.com/doclib/enc/fetch/2000/4504/577242/577256/588723/5144873/5144488/5145048/DICOM_Conformance_Statement_Philips_CT_Scanners_and_Workstations_V2_V3_.pdf\n",
    "def transform_npy_to_hu(image):\n",
    "    intercept = -1024\n",
    "    slope = 1\n",
    "    hu_image = image * slope + intercept\n",
    "\n",
    "    return hu_image"
   ]
  },
  {
   "cell_type": "code",
   "execution_count": 4,
   "metadata": {},
   "outputs": [],
   "source": [
    "def transform_to_npy_pixel_array(hu_image):\n",
    "    intercept = -1024\n",
    "    slope = 1\n",
    "    image = (hu_image - intercept)/slope\n",
    "\n",
    "    return image.astype(np.int16)"
   ]
  },
  {
   "cell_type": "code",
   "execution_count": 5,
   "metadata": {},
   "outputs": [],
   "source": [
    "def read_npy_image(file_path):\n",
    "    pixel_array = np.load(file_path)\n",
    "    return pixel_array"
   ]
  },
  {
   "cell_type": "code",
   "execution_count": null,
   "metadata": {},
   "outputs": [],
   "source": [
    "def show_npy_image(med_img, title=\"\"):\n",
    "    plt.figure(figsize=(15, 5))\n",
    "    plt.imshow(med_img, cmap='gray')\n",
    "    plt.title(title)\n",
    "    plt.axis('off')"
   ]
  },
  {
   "cell_type": "code",
   "execution_count": 6,
   "metadata": {},
   "outputs": [],
   "source": [
    "def save_npy(new_image, file_path):\n",
    "    with open(file_path, 'wb') as f:\n",
    "        np.save(f,new_image)"
   ]
  }
 ],
 "metadata": {
  "kernelspec": {
   "display_name": "Python 3",
   "language": "python",
   "name": "python3"
  },
  "language_info": {
   "codemirror_mode": {
    "name": "ipython",
    "version": 3
   },
   "file_extension": ".py",
   "mimetype": "text/x-python",
   "name": "python",
   "nbconvert_exporter": "python",
   "pygments_lexer": "ipython3",
   "version": "3.11.3"
  },
  "orig_nbformat": 4
 },
 "nbformat": 4,
 "nbformat_minor": 2
}
