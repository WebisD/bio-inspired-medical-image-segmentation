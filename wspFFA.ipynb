{
 "cells": [
  {
   "cell_type": "code",
   "execution_count": 222,
   "metadata": {},
   "outputs": [],
   "source": [
    "import random\n",
    "import math\n",
    "import cv2\n",
    "import matplotlib.pyplot as plt\n",
    "import numpy as np"
   ]
  },
  {
   "cell_type": "code",
   "execution_count": 223,
   "metadata": {},
   "outputs": [],
   "source": [
    "from ipynb.fs.full.wspShannonEvaluation import wspShannonEvaluation\n",
    "from ipynb.fs.full.wspTsallisEvaluation import wspTsallisEvaluation"
   ]
  },
  {
   "cell_type": "code",
   "execution_count": 224,
   "metadata": {},
   "outputs": [],
   "source": [
    "def dist(a, b):\n",
    "    S = 0\n",
    "    for k in range(len(a)):\n",
    "        S += (a[k] - b[k]) ** 2\n",
    "    S = math.sqrt(S)\n",
    "    return S"
   ]
  },
  {
   "cell_type": "code",
   "execution_count": 225,
   "metadata": {},
   "outputs": [],
   "source": [
    "def wspFirefly(n, d, gamma, alpha, beta, maxGeneration, H, lb, ub, objFunc, q):\n",
    "    \"\"\"\"\n",
    "    Firefly algorithm\n",
    "\n",
    "    :param n: number of agents\n",
    "    :param d: dimension\n",
    "    :param gamma: absorption coefficient\n",
    "    :param alpha: step of motion\n",
    "    :param beta: attractivity factor\n",
    "    :param maxGeneration: number of max generation\n",
    "    :param H: histogram\n",
    "\n",
    "    :return: thresholding set fi = {l1, l2, ..., ld }\n",
    "    \"\"\"\n",
    "    t = 0\n",
    "    alphat = 1.0\n",
    "    bests = [0]*d\n",
    "\n",
    "    # random.seed(0) # Reset the random generator\n",
    "    \n",
    "    fireflies = [] # random initial population\n",
    "\n",
    "    for _ in range(n): # generate firefly with d-dimensional solution\n",
    "        firefly = random.sample(range(lb,ub), d)\n",
    "        firefly.sort()\n",
    "        fireflies.append(firefly)\n",
    "\n",
    "    # Iterations or pseudo time marching\n",
    "    r = []\n",
    "    for i in range(n):\n",
    "        lin = [0.0]*n\n",
    "        r.append(lin)\n",
    "\n",
    "    Z = [0]*n # Initial light intensity of each firefly\n",
    "\n",
    "    while t < maxGeneration:\n",
    "        for i in range(n):\n",
    "            Z[i] = objFunc(H, fireflies[i], lb, ub, q)\n",
    "\n",
    "        indice = np.argsort(Z)\n",
    "\n",
    "        Z.sort()\n",
    "\n",
    "        # Ranking the fireflies by their light intensity\n",
    "        rank = [0]*n\n",
    "        for i in range(n):\n",
    "            rank[i] = fireflies[indice[i]]\n",
    "\n",
    "        fireflies = rank\n",
    "\n",
    "        for i in range(n):\n",
    "            for j in range(n):\n",
    "                r[i][j] = dist(fireflies[i], fireflies[j])\n",
    "\n",
    "        alphat = alpha * alphat  # Reduce randomness as iterations proceed\n",
    "        \n",
    "        # Move all fireflies to the better locations\n",
    "        for i in range(n):\n",
    "            for j in range(n):\n",
    "                if Z[i] < Z[j]:\n",
    "                    threshold = random.sample(range(lb, ub), d)\n",
    "                    threshold.sort()\n",
    "                    \n",
    "                    betat = beta * math.exp(-gamma*((r[i][j])**2))\n",
    "\n",
    "                    if i != n-1:\n",
    "                        for k in range(d):\n",
    "                            fireflies[i][k] = int(((1 - betat)*fireflies[i][k] + betat*fireflies[j][k] + alphat*threshold[k])/(1+alphat))\n",
    "        \n",
    "        bests = fireflies[0]\n",
    "        \n",
    "        t+=1\n",
    "\n",
    "    bests.sort()\n",
    "    \n",
    "    return bests\n"
   ]
  }
 ],
 "metadata": {
  "kernelspec": {
   "display_name": "Python 3.10.4 ('tcc_env')",
   "language": "python",
   "name": "python3"
  },
  "language_info": {
   "codemirror_mode": {
    "name": "ipython",
    "version": 3
   },
   "file_extension": ".py",
   "mimetype": "text/x-python",
   "name": "python",
   "nbconvert_exporter": "python",
   "pygments_lexer": "ipython3",
   "version": "3.10.4"
  },
  "orig_nbformat": 4,
  "vscode": {
   "interpreter": {
    "hash": "50c3a715107fe4dcdc7dcc1225e41dc08fefd31cb688eb0c1f730ec66093fb86"
   }
  }
 },
 "nbformat": 4,
 "nbformat_minor": 2
}
